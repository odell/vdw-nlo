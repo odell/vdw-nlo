{
 "cells": [
  {
   "cell_type": "markdown",
   "id": "848ee935",
   "metadata": {},
   "source": [
    "# ${}^{4}{\\rm He}$\n",
    "\n",
    "The interaction is defined in `helium4.py`. It is nonlocal, and so is the counterterm. We will use it to tune the scattering length over a range of short-distance cutoffs, $R$."
   ]
  },
  {
   "cell_type": "code",
   "execution_count": 1,
   "id": "640f0bcc",
   "metadata": {},
   "outputs": [],
   "source": [
    "import numpy as np\n",
    "from scipy import optimize\n",
    "\n",
    "import mu2\n",
    "\n",
    "import helium4plus as he4"
   ]
  },
  {
   "cell_type": "code",
   "execution_count": 2,
   "id": "b7f87e54",
   "metadata": {},
   "outputs": [],
   "source": [
    "large_R_rg_flow = np.loadtxt('datfiles/he4plus_LO_nonlocal_rg_flow.txt')"
   ]
  },
  {
   "cell_type": "code",
   "execution_count": 8,
   "id": "d91a6118",
   "metadata": {},
   "outputs": [],
   "source": [
    "ELL = 0\n",
    "R_MAX = large_R_rg_flow[-1, 0]\n",
    "R_MIN = he4.BETA6/12\n",
    "nR = 50\n",
    "Rs = 2/np.linspace(2/R_MAX, 2/R_MIN, nR)\n",
    "gs = np.empty(nR)\n",
    "b2s = np.empty(nR)\n",
    "r0s = np.empty(nR)"
   ]
  },
  {
   "cell_type": "code",
   "execution_count": 9,
   "id": "edb4b92e",
   "metadata": {},
   "outputs": [],
   "source": [
    "momenta = np.linspace(0.01/he4.BETA6, 0.3/he4.BETA6, 30)\n",
    "X = he4.FACTOR * he4.BETA6 # K•Å^3\n",
    "\n",
    "def inverse_a0_diff(g, sys):\n",
    "    a0, _ = sys.a0_and_r0(g, 0, momenta, use_c=True)\n",
    "    return (1/he4.A0 - 1/a0)*he4.A0"
   ]
  },
  {
   "cell_type": "code",
   "execution_count": 10,
   "id": "63cae654",
   "metadata": {},
   "outputs": [],
   "source": [
    "s = he4.Helium4System(Rs[0], ELL)"
   ]
  },
  {
   "cell_type": "code",
   "execution_count": 16,
   "id": "1889cc96",
   "metadata": {},
   "outputs": [
    {
     "data": {
      "text/plain": [
       "((100.0000000020215, 7.388670797772099),\n",
       " array([-1.31180716e-03, -1.61114747e+02, -2.13931374e+06]))"
      ]
     },
     "execution_count": 16,
     "metadata": {},
     "output_type": "execute_result"
    }
   ],
   "source": [
    "guess = large_R_rg_flow[-1, 1]\n",
    "s.a0_and_r0(guess, 0, momenta, use_c=True), s.bound_state_spectrum(guess, 0)"
   ]
  },
  {
   "cell_type": "code",
   "execution_count": 17,
   "id": "3a11ab91",
   "metadata": {},
   "outputs": [
    {
     "name": "stdout",
     "output_type": "stream",
     "text": [
      "i = 0  R = 0.6927  g = 2.7877e+04 X  a0 = 1.0000e+02  r0 = 7.3887e+00  b2 = 0.001311807159433859\n",
      "i = 1  R = 0.6857  g = 2.9196e+04 X  a0 = 1.0000e+02  r0 = 7.3852e+00  b2 = 0.001311752284529022\n",
      "i = 2  R = 0.6788  g = 3.0677e+04 X  a0 = 1.0000e+02  r0 = 7.3818e+00  b2 = 0.0013116982809370163\n",
      "i = 3  R = 0.6721  g = 3.2391e+04 X  a0 = 1.0000e+02  r0 = 7.3784e+00  b2 = 0.0013116456358603153\n",
      "i = 4  R = 0.6655  g = 3.4455e+04 X  a0 = 1.0000e+02  r0 = 7.3752e+00  b2 = 0.0013115948220837521\n",
      "i = 5  R = 0.6590  g = 3.7096e+04 X  a0 = 1.0000e+02  r0 = 7.3721e+00  b2 = 0.0013115462611972546\n",
      "i = 6  R = 0.6527  g = 4.0806e+04 X  a0 = 1.0000e+02  r0 = 7.3692e+00  b2 = 0.0013115003108401253\n",
      "i = 7  R = 0.6465  g = 4.6882e+04 X  a0 = 1.0000e+02  r0 = 7.3665e+00  b2 = 0.0013114572820055851\n"
     ]
    }
   ],
   "source": [
    "for i in range(nR):\n",
    "    R = Rs[i]\n",
    "    s = he4.Helium4System(R, ELL)\n",
    "    result = optimize.fsolve(inverse_a0_diff, guess, args=(s), factor=0.1)\n",
    "    g = result[0]\n",
    "    a0, r0 = s.a0_and_r0(g, 0, momenta)\n",
    "    \n",
    "    if np.abs((he4.A0 - a0)/he4.A0) < 1e-4:\n",
    "        e2s = s.bound_state_spectrum(g, 0)\n",
    "        gs[i] = g\n",
    "        r0s[i] = r0\n",
    "        b2s[i] = np.abs(e2s[0])\n",
    "        print(f'i = {i}  R = {R:.4f}  g = {g/X:.4e} X  a0 = {a0:.4e}  r0 = {r0:.4e}  b2 = {np.abs(e2s[0])}')\n",
    "    else:\n",
    "        break"
   ]
  },
  {
   "cell_type": "code",
   "execution_count": 18,
   "id": "b8945430",
   "metadata": {},
   "outputs": [],
   "source": [
    "restart = 8\n",
    "s = he4.Helium4System(Rs[restart], ELL)"
   ]
  },
  {
   "cell_type": "code",
   "execution_count": 36,
   "id": "993a44b7",
   "metadata": {},
   "outputs": [
    {
     "data": {
      "text/plain": [
       "-3.4071743988152436e-05"
      ]
     },
     "execution_count": 36,
     "metadata": {},
     "output_type": "execute_result"
    }
   ],
   "source": [
    "guess = 6.025e4*X\n",
    "inverse_a0_diff(guess, s)"
   ]
  },
  {
   "cell_type": "code",
   "execution_count": 37,
   "id": "67cc016e",
   "metadata": {},
   "outputs": [
    {
     "name": "stdout",
     "output_type": "stream",
     "text": [
      "i = 8  R = 0.6404  g = 6.0250e+04 X  a0 = 1.0000e+02  r0 = 7.3639e+00  b2 = 0.0013114174211908338\n",
      "i = 9  R = 0.6344  g = 1.3158e+05 X  a0 = 1.0000e+02  r0 = 7.3616e+00  b2 = 0.0013113796670875283\n"
     ]
    },
    {
     "name": "stderr",
     "output_type": "stream",
     "text": [
      "/Library/Frameworks/Python.framework/Versions/3.10/lib/python3.10/site-packages/scipy/optimize/_minpack_py.py:175: RuntimeWarning: The iteration is not making good progress, as measured by the \n",
      "  improvement from the last ten iterations.\n",
      "  warnings.warn(msg, RuntimeWarning)\n"
     ]
    }
   ],
   "source": [
    "for i in range(restart, nR):\n",
    "    R = Rs[i]\n",
    "    s = he4.Helium4System(R, ELL)\n",
    "    result = optimize.fsolve(inverse_a0_diff, guess, args=(s), factor=0.1)\n",
    "    g = result[0]\n",
    "    a0, r0 = s.a0_and_r0(g, 0, momenta)\n",
    "    \n",
    "    if np.abs((he4.A0 - a0)/he4.A0) < 1e-4:\n",
    "        e2s = s.bound_state_spectrum(g, 0)\n",
    "        gs[i] = g\n",
    "        r0s[i] = r0\n",
    "        b2s[i] = np.abs(e2s[0])\n",
    "        print(f'i = {i}  R = {R:.4f}  g = {g/X:.4e} X  a0 = {a0:.4e}  r0 = {r0:.4e}  b2 = {np.abs(e2s[0])}')\n",
    "    else:\n",
    "        break"
   ]
  },
  {
   "cell_type": "code",
   "execution_count": 38,
   "id": "8d9ee1b4",
   "metadata": {},
   "outputs": [],
   "source": [
    "restart = 10\n",
    "s = he4.Helium4System(Rs[restart], ELL)"
   ]
  },
  {
   "cell_type": "code",
   "execution_count": 52,
   "id": "d5f8bade",
   "metadata": {},
   "outputs": [
    {
     "data": {
      "text/plain": [
       "0.008278827209663546"
      ]
     },
     "execution_count": 52,
     "metadata": {},
     "output_type": "execute_result"
    }
   ],
   "source": [
    "guess = -4.4e4*X\n",
    "inverse_a0_diff(guess, s)"
   ]
  },
  {
   "cell_type": "code",
   "execution_count": 54,
   "id": "a2a668ba",
   "metadata": {},
   "outputs": [
    {
     "name": "stdout",
     "output_type": "stream",
     "text": [
      "i = 10  R = 0.6285  g = -4.4477e+04 X  a0 = 1.0000e+02  r0 = 7.3595e+00  b2 = 0.0013113478993898007\n",
      "i = 11  R = 0.6228  g = 5.0426e+03 X  a0 = 1.0000e+02  r0 = 7.3576e+00  b2 = 0.0013113183960684715\n",
      "i = 12  R = 0.6171  g = 1.6768e+04 X  a0 = 1.0000e+02  r0 = 7.3560e+00  b2 = 0.0013112924649417372\n",
      "i = 13  R = 0.6115  g = 2.2481e+04 X  a0 = 1.0000e+02  r0 = 7.3544e+00  b2 = 0.0013112705338861764\n",
      "i = 14  R = 0.6061  g = 2.6142e+04 X  a0 = 1.0000e+02  r0 = 7.3534e+00  b2 = 0.0013112510395039262\n",
      "i = 15  R = 0.6007  g = 2.8868e+04 X  a0 = 1.0000e+02  r0 = 7.3523e+00  b2 = 0.0013112352645365507\n",
      "i = 16  R = 0.5954  g = 3.1094e+04 X  a0 = 1.0000e+02  r0 = 7.3515e+00  b2 = 0.0013112227503864653\n",
      "i = 17  R = 0.5903  g = 3.3026e+04 X  a0 = 1.0000e+02  r0 = 7.3509e+00  b2 = 0.0013112128260141518\n",
      "i = 18  R = 0.5852  g = 3.4776e+04 X  a0 = 1.0000e+02  r0 = 7.3505e+00  b2 = 0.0013112056762119091\n",
      "i = 19  R = 0.5802  g = 3.6407e+04 X  a0 = 1.0000e+02  r0 = 7.3502e+00  b2 = 0.0013112008913189906\n",
      "i = 20  R = 0.5753  g = 3.7959e+04 X  a0 = 1.0000e+02  r0 = 7.3500e+00  b2 = 0.0013111982226658367\n",
      "i = 21  R = 0.5704  g = 3.9460e+04 X  a0 = 1.0000e+02  r0 = 7.3499e+00  b2 = 0.0013111972481552091\n",
      "i = 22  R = 0.5657  g = 4.0926e+04 X  a0 = 1.0000e+02  r0 = 7.3500e+00  b2 = 0.0013111977808091765\n",
      "i = 23  R = 0.5610  g = 4.2371e+04 X  a0 = 1.0000e+02  r0 = 7.3501e+00  b2 = 0.0013111994700374162\n",
      "i = 24  R = 0.5564  g = 4.3804e+04 X  a0 = 1.0000e+02  r0 = 7.3502e+00  b2 = 0.0013112020104762776\n",
      "i = 25  R = 0.5519  g = 4.5233e+04 X  a0 = 1.0000e+02  r0 = 7.3504e+00  b2 = 0.0013112050952093699\n",
      "i = 26  R = 0.5474  g = 4.6664e+04 X  a0 = 1.0000e+02  r0 = 7.3506e+00  b2 = 0.0013112084335200269\n",
      "i = 27  R = 0.5430  g = 4.8102e+04 X  a0 = 1.0000e+02  r0 = 7.3509e+00  b2 = 0.0013112117503113726\n",
      "i = 28  R = 0.5387  g = 4.9549e+04 X  a0 = 1.0000e+02  r0 = 7.3511e+00  b2 = 0.0013112147957657753\n",
      "i = 29  R = 0.5345  g = 5.1009e+04 X  a0 = 1.0000e+02  r0 = 7.3512e+00  b2 = 0.0013112173308663124\n",
      "i = 30  R = 0.5303  g = 5.2486e+04 X  a0 = 1.0000e+02  r0 = 7.3513e+00  b2 = 0.001311219147906352\n",
      "i = 31  R = 0.5262  g = 5.3982e+04 X  a0 = 1.0000e+02  r0 = 7.3514e+00  b2 = 0.0013112200600276579\n",
      "i = 32  R = 0.5222  g = 5.5499e+04 X  a0 = 1.0000e+02  r0 = 7.3514e+00  b2 = 0.001311219934240284\n",
      "i = 33  R = 0.5182  g = 5.7040e+04 X  a0 = 1.0000e+02  r0 = 7.3513e+00  b2 = 0.0013112191548533363\n",
      "i = 34  R = 0.5142  g = 5.8608e+04 X  a0 = 1.0000e+02  r0 = 7.3511e+00  b2 = 0.001311215949610217\n",
      "i = 35  R = 0.5104  g = 6.0203e+04 X  a0 = 1.0000e+02  r0 = 7.3509e+00  b2 = 0.0013112119496287145\n",
      "i = 36  R = 0.5066  g = 6.1830e+04 X  a0 = 1.0000e+02  r0 = 7.3505e+00  b2 = 0.001311206542218293\n",
      "i = 37  R = 0.5028  g = 6.3490e+04 X  a0 = 1.0000e+02  r0 = 7.3501e+00  b2 = 0.0013111996975717873\n",
      "i = 38  R = 0.4991  g = 6.5188e+04 X  a0 = 1.0000e+02  r0 = 7.3496e+00  b2 = 0.0013111914311696772\n",
      "i = 39  R = 0.4955  g = 6.6925e+04 X  a0 = 1.0000e+02  r0 = 7.3490e+00  b2 = 0.0013111817670703302\n",
      "i = 40  R = 0.4919  g = 6.8707e+04 X  a0 = 1.0000e+02  r0 = 7.3483e+00  b2 = 0.0013111707548355883\n",
      "i = 41  R = 0.4883  g = 7.0537e+04 X  a0 = 1.0000e+02  r0 = 7.3475e+00  b2 = 0.0013111584644719299\n",
      "i = 42  R = 0.4849  g = 7.2420e+04 X  a0 = 1.0000e+02  r0 = 7.3466e+00  b2 = 0.0013111449961708157\n",
      "i = 43  R = 0.4814  g = 7.4364e+04 X  a0 = 1.0000e+02  r0 = 7.3457e+00  b2 = 0.0013111304726441957\n",
      "i = 44  R = 0.4780  g = 7.6375e+04 X  a0 = 1.0000e+02  r0 = 7.3447e+00  b2 = 0.0013111149901595298\n",
      "i = 45  R = 0.4747  g = 7.8464e+04 X  a0 = 1.0000e+02  r0 = 7.3437e+00  b2 = 0.001311098693018365\n",
      "i = 46  R = 0.4714  g = 8.0641e+04 X  a0 = 1.0000e+02  r0 = 7.3426e+00  b2 = 0.0013110817152869494\n",
      "i = 47  R = 0.4681  g = 8.2924e+04 X  a0 = 1.0000e+02  r0 = 7.3415e+00  b2 = 0.0013110642144133226\n",
      "i = 48  R = 0.4649  g = 8.5331e+04 X  a0 = 1.0000e+02  r0 = 7.3403e+00  b2 = 0.0013110463508241087\n",
      "i = 49  R = 0.4618  g = 8.7890e+04 X  a0 = 1.0000e+02  r0 = 7.3392e+00  b2 = 0.0013110282339773053\n"
     ]
    }
   ],
   "source": [
    "for i in range(restart, nR):\n",
    "    R = Rs[i]\n",
    "    s = he4.Helium4System(R, ELL)\n",
    "    result = optimize.fsolve(inverse_a0_diff, guess, args=(s), factor=0.1)\n",
    "    g = result[0]\n",
    "    a0, r0 = s.a0_and_r0(g, 0, momenta)\n",
    "    \n",
    "    if np.abs((he4.A0 - a0)/he4.A0) < 1e-4:\n",
    "        e2s = s.bound_state_spectrum(g, 0)\n",
    "        gs[i] = g\n",
    "        r0s[i] = r0\n",
    "        b2s[i] = np.abs(e2s[0])\n",
    "        print(f'i = {i}  R = {R:.4f}  g = {g/X:.4e} X  a0 = {a0:.4e}  r0 = {r0:.4e}  b2 = {np.abs(e2s[0])}')\n",
    "        guess = g\n",
    "    else:\n",
    "        break"
   ]
  },
  {
   "cell_type": "code",
   "execution_count": 55,
   "id": "dec7cbbe",
   "metadata": {},
   "outputs": [],
   "source": [
    "import matplotlib.pyplot as plt\n",
    "\n",
    "plt.style.use('science')\n",
    "gr = 4/3\n",
    "h = 3"
   ]
  },
  {
   "cell_type": "code",
   "execution_count": 56,
   "id": "b30e20f1",
   "metadata": {},
   "outputs": [
    {
     "data": {
      "image/png": "[encoded data removed]",
      "text/plain": [
       "<Figure size 800x600 with 1 Axes>"
      ]
     },
     "metadata": {},
     "output_type": "display_data"
    }
   ],
   "source": [
    "fig, ax = plt.subplots(figsize=(gr*h, h), dpi=200)\n",
    "fig.patch.set_facecolor('white')\n",
    "\n",
    "ax.plot(he4.BETA6/Rs, gs)\n",
    "\n",
    "ax.set_xlabel(r'$\\beta_6/R$')\n",
    "ax.set_ylabel(r'$g_{\\rm LO}$');"
   ]
  },
  {
   "cell_type": "code",
   "execution_count": 57,
   "id": "4b147d4d",
   "metadata": {},
   "outputs": [
    {
     "data": {
      "image/png": "[encoded data removed]",
      "text/plain": [
       "<Figure size 800x600 with 1 Axes>"
      ]
     },
     "metadata": {},
     "output_type": "display_data"
    }
   ],
   "source": [
    "fig, ax = plt.subplots(figsize=(gr*h, h), dpi=200)\n",
    "fig.patch.set_facecolor('white')\n",
    "\n",
    "ax.plot(he4.BETA6/Rs, r0s)\n",
    "ax.axhline(he4.R0, color='C1', linestyle='--')\n",
    "\n",
    "ax.set_xlabel(r'$\\beta_6/R$')\n",
    "ax.set_ylabel(r'$r_0$ (Å)');"
   ]
  },
  {
   "cell_type": "code",
   "execution_count": 58,
   "id": "74144a17",
   "metadata": {},
   "outputs": [],
   "source": [
    "np.savetxt('datfiles/he4plus_LO_nonlocal_rg_flow_small_R.txt', np.vstack((Rs, gs)).T, header='R (Å)  g ()')"
   ]
  },
  {
   "cell_type": "code",
   "execution_count": 59,
   "id": "3c28ef18",
   "metadata": {},
   "outputs": [],
   "source": [
    "np.savetxt('datfiles/he4plus_LO_nonlocal_r0s_small_R.txt', np.vstack((Rs, r0s)).T, header='R (Å)  r_0 (Å)')"
   ]
  },
  {
   "cell_type": "code",
   "execution_count": null,
   "id": "3f669804",
   "metadata": {},
   "outputs": [],
   "source": []
  }
 ],
 "metadata": {
  "kernelspec": {
   "display_name": "Python 3.10.1 64-bit",
   "language": "python",
   "name": "python3"
  },
  "language_info": {
   "codemirror_mode": {
    "name": "ipython",
    "version": 3
   },
   "file_extension": ".py",
   "mimetype": "text/x-python",
   "name": "python",
   "nbconvert_exporter": "python",
   "pygments_lexer": "ipython3",
   "version": "3.10.1"
  },
  "toc": {
   "base_numbering": 1,
   "nav_menu": {},
   "number_sections": true,
   "sideBar": true,
   "skip_h1_title": false,
   "title_cell": "Table of Contents",
   "title_sidebar": "Contents",
   "toc_cell": false,
   "toc_position": {},
   "toc_section_display": true,
   "toc_window_display": false
  },
  "varInspector": {
   "cols": {
    "lenName": 16,
    "lenType": 16,
    "lenVar": 40
   },
   "kernels_config": {
    "python": {
     "delete_cmd_postfix": "",
     "delete_cmd_prefix": "del ",
     "library": "var_list.py",
     "varRefreshCmd": "print(var_dic_list())"
    },
    "r": {
     "delete_cmd_postfix": ") ",
     "delete_cmd_prefix": "rm(",
     "library": "var_list.r",
     "varRefreshCmd": "cat(var_dic_list()) "
    }
   },
   "types_to_exclude": [
    "module",
    "function",
    "builtin_function_or_method",
    "instance",
    "_Feature"
   ],
   "window_display": false
  },
  "vscode": {
   "interpreter": {
    "hash": "98590ff4fe04c8543246b2a01debd3de3c5ca9b666f43f1fa87d5110c692004c"
   }
  }
 },
 "nbformat": 4,
 "nbformat_minor": 5
}
