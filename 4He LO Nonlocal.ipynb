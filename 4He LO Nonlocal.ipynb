{
 "cells": [
  {
   "cell_type": "markdown",
   "id": "848ee935",
   "metadata": {},
   "source": [
    "# ${}^{4}{\\rm He}$\n",
    "\n",
    "The interaction is defined in `helium4.py`. It is nonlocal, and so is the counterterm. We will use it to tune the scattering length over a range of short-distance cutoffs, $R$."
   ]
  },
  {
   "cell_type": "code",
   "execution_count": 1,
   "id": "640f0bcc",
   "metadata": {},
   "outputs": [],
   "source": [
    "import numpy as np\n",
    "from scipy import optimize\n",
    "\n",
    "import mu2\n",
    "\n",
    "import helium4 as he4"
   ]
  },
  {
   "cell_type": "code",
   "execution_count": 2,
   "id": "d91a6118",
   "metadata": {},
   "outputs": [],
   "source": [
    "ELL = 0\n",
    "R_MAX = he4.BETA6/2\n",
    "R_MIN = he4.BETA6/8\n",
    "nR = 50\n",
    "Rs = 2/np.linspace(2/R_MAX, 2/R_MIN, nR)\n",
    "gs = np.empty(nR)\n",
    "b2s = np.empty(nR)\n",
    "r0s = np.empty(nR)"
   ]
  },
  {
   "cell_type": "code",
   "execution_count": 3,
   "id": "edb4b92e",
   "metadata": {},
   "outputs": [],
   "source": [
    "momenta = np.linspace(0.01/he4.BETA6, 0.3/he4.BETA6, 30)\n",
    "X = he4.FACTOR * he4.BETA6 # K•Å^3\n",
    "\n",
    "def inverse_a0_diff(g, sys):\n",
    "    a0, _ = sys.a0_and_r0(g, 0, momenta, use_c=True)\n",
    "    return np.abs((1/he4.A0 - 1/a0)*he4.A0)"
   ]
  },
  {
   "cell_type": "code",
   "execution_count": 4,
   "id": "63cae654",
   "metadata": {},
   "outputs": [],
   "source": [
    "s = he4.construct_helium4_system(Rs[0], ELL)"
   ]
  },
  {
   "cell_type": "code",
   "execution_count": 5,
   "id": "1889cc96",
   "metadata": {},
   "outputs": [
    {
     "data": {
      "text/plain": [
       "((102.91865530809538, 8.411841441735646), array([-0.00125096]))"
      ]
     },
     "execution_count": 5,
     "metadata": {},
     "output_type": "execute_result"
    }
   ],
   "source": [
    "guess = 760*X\n",
    "s.a0_and_r0(guess, 0, momenta, use_c=True), s.bound_state_spectrum(guess, 0)"
   ]
  },
  {
   "cell_type": "code",
   "execution_count": 6,
   "id": "3a11ab91",
   "metadata": {},
   "outputs": [
    {
     "name": "stdout",
     "output_type": "stream",
     "text": [
      "i = 0  R = 2.6884930808114067  g = 7.5937e+02 X  a0 = 1.0000e+02  r0 = 8.3998e+00  b2 = 0.001328491030467367\n",
      "i = 1  R = 2.5333877107645946  g = 1.3487e+03 X  a0 = 1.0000e+02  r0 = 8.1605e+00  b2 = 0.0013245241227134094\n"
     ]
    },
    {
     "name": "stderr",
     "output_type": "stream",
     "text": [
      "/Library/Frameworks/Python.framework/Versions/3.10/lib/python3.10/site-packages/scipy/optimize/_minpack_py.py:175: RuntimeWarning: The iteration is not making good progress, as measured by the \n",
      "  improvement from the last ten iterations.\n",
      "  warnings.warn(msg, RuntimeWarning)\n"
     ]
    }
   ],
   "source": [
    "for i in range(nR):\n",
    "    R = Rs[i]\n",
    "    s = he4.construct_helium4_system(R, ELL)\n",
    "    result = optimize.fsolve(inverse_a0_diff, guess, args=(s), factor=0.1)\n",
    "    g = result[0]\n",
    "    a0, r0 = s.a0_and_r0(g, 0, momenta)\n",
    "    \n",
    "    if np.abs((he4.A0 - a0)/he4.A0) < 1e-4:\n",
    "        e2s = s.bound_state_spectrum(g, 0)\n",
    "        gs[i] = g\n",
    "        r0s[i] = r0\n",
    "        b2s[i] = np.abs(e2s[0])\n",
    "        print(f'i = {i}  R = {R}  g = {g/X:.4e} X  a0 = {a0:.4e}  r0 = {r0:.4e}  b2 = {np.abs(e2s[0])}')\n",
    "    else:\n",
    "        break"
   ]
  },
  {
   "cell_type": "code",
   "execution_count": 7,
   "id": "b8945430",
   "metadata": {},
   "outputs": [],
   "source": [
    "restart = 2\n",
    "s = he4.construct_helium4_system(Rs[restart], ELL)"
   ]
  },
  {
   "cell_type": "code",
   "execution_count": 8,
   "id": "993a44b7",
   "metadata": {},
   "outputs": [
    {
     "data": {
      "text/plain": [
       "0.011628295276288475"
      ]
     },
     "execution_count": 8,
     "metadata": {},
     "output_type": "execute_result"
    }
   ],
   "source": [
    "guess = -2200*X\n",
    "inverse_a0_diff(guess, s)"
   ]
  },
  {
   "cell_type": "code",
   "execution_count": 9,
   "id": "67cc016e",
   "metadata": {},
   "outputs": [
    {
     "name": "stdout",
     "output_type": "stream",
     "text": [
      "i = 2  R = 2.3952029265410713  g = -2.1799e+03 X  a0 = 1.0000e+02  r0 = 7.9727e+00  b2 = 0.0013214408847803851\n",
      "i = 3  R = 2.2713131199958436  g = 1.3034e+02 X  a0 = 1.0000e+02  r0 = 7.8292e+00  b2 = 0.0013191038331283743\n",
      "i = 4  R = 2.1596091960616217  g = 4.8941e+02 X  a0 = 1.0000e+02  r0 = 7.7232e+00  b2 = 0.0013173873169407763\n",
      "i = 5  R = 2.0583775149962333  g = 7.1346e+02 X  a0 = 1.0000e+02  r0 = 7.6482e+00  b2 = 0.0013161765744706488\n",
      "i = 6  R = 1.9662113576083418  g = 9.0763e+02 X  a0 = 1.0000e+02  r0 = 7.5979e+00  b2 = 0.0013153667611003478\n",
      "i = 7  R = 1.8819451565679846  g = 1.0975e+03 X  a0 = 1.0000e+02  r0 = 7.5666e+00  b2 = 0.0013148625513397642\n",
      "i = 8  R = 1.8046049446542318  g = 1.2927e+03 X  a0 = 1.0000e+02  r0 = 7.5490e+00  b2 = 0.0013145783506912495\n",
      "i = 9  R = 1.7333705389441965  g = 1.4981e+03 X  a0 = 1.0000e+02  r0 = 7.5403e+00  b2 = 0.0013144388604214492\n",
      "i = 10  R = 1.6675463412627713  g = 1.7169e+03 X  a0 = 1.0000e+02  r0 = 7.5367e+00  b2 = 0.0013143801973354624\n",
      "i = 11  R = 1.606538548289743  g = 1.9513e+03 X  a0 = 1.0000e+02  r0 = 7.5349e+00  b2 = 0.0013143498637735703\n",
      "i = 12  R = 1.5498371877618695  g = 2.2033e+03 X  a0 = 1.0000e+02  r0 = 7.5323e+00  b2 = 0.0013143077238252083\n",
      "i = 13  R = 1.4970018290881697  g = 2.4748e+03 X  a0 = 1.0000e+02  r0 = 7.5272e+00  b2 = 0.0013142254618062127\n",
      "i = 14  R = 1.4476501204369112  g = 2.7679e+03 X  a0 = 1.0000e+02  r0 = 7.5185e+00  b2 = 0.0013140858984071041\n",
      "i = 15  R = 1.4014485208484992  g = 3.0852e+03 X  a0 = 1.0000e+02  r0 = 7.5058e+00  b2 = 0.001313881739088033\n",
      "i = 16  R = 1.3581047521624632  g = 3.4298e+03 X  a0 = 1.0000e+02  r0 = 7.4890e+00  b2 = 0.0013136139274748516\n",
      "i = 17  R = 1.317361609597589  g = 3.8059e+03 X  a0 = 1.0000e+02  r0 = 7.4686e+00  b2 = 0.0013132897739256142\n",
      "i = 18  R = 1.2789918539782419  g = 4.2194e+03 X  a0 = 1.0000e+02  r0 = 7.4454e+00  b2 = 0.001312921018998883\n",
      "i = 19  R = 1.2427939713184806  g = 4.6794e+03 X  a0 = 1.0000e+02  r0 = 7.4203e+00  b2 = 0.00131252198818778\n"
     ]
    }
   ],
   "source": [
    "for i in range(restart, nR):\n",
    "    R = Rs[i]\n",
    "    s = he4.construct_helium4_system(R, ELL)\n",
    "    result = optimize.fsolve(inverse_a0_diff, guess, args=(s), factor=0.1)\n",
    "    g = result[0]\n",
    "    a0, r0 = s.a0_and_r0(g, 0, momenta)\n",
    "    \n",
    "    if np.abs((he4.A0 - a0)/he4.A0) < 1e-4:\n",
    "        e2s = s.bound_state_spectrum(g, 0)\n",
    "        gs[i] = g\n",
    "        r0s[i] = r0\n",
    "        b2s[i] = np.abs(e2s[0])\n",
    "        print(f'i = {i}  R = {R}  g = {g/X:.4e} X  a0 = {a0:.4e}  r0 = {r0:.4e}  b2 = {np.abs(e2s[0])}')\n",
    "    else:\n",
    "        break"
   ]
  },
  {
   "cell_type": "code",
   "execution_count": 10,
   "id": "8d9ee1b4",
   "metadata": {},
   "outputs": [],
   "source": [
    "restart = 20\n",
    "s = he4.construct_helium4_system(Rs[restart], ELL)"
   ]
  },
  {
   "cell_type": "code",
   "execution_count": 25,
   "id": "d5f8bade",
   "metadata": {},
   "outputs": [
    {
     "data": {
      "text/plain": [
       "0.01756929408829582"
      ]
     },
     "execution_count": 25,
     "metadata": {},
     "output_type": "execute_result"
    }
   ],
   "source": [
    "guess = 5200*X\n",
    "inverse_a0_diff(guess, s)"
   ]
  },
  {
   "cell_type": "code",
   "execution_count": 27,
   "id": "a2a668ba",
   "metadata": {},
   "outputs": [
    {
     "name": "stdout",
     "output_type": "stream",
     "text": [
      "i = 20  R = 1.2085886326583386  g = 5.2006e+03 X  a0 = 1.0000e+02  r0 = 7.3942e+00  b2 = 0.0013121079582042146\n",
      "i = 21  R = 1.1762157228549903  g = 5.8092e+03 X  a0 = 1.0000e+02  r0 = 7.3681e+00  b2 = 0.0013116937950748658\n",
      "i = 22  R = 1.1455318344326864  g = 6.5581e+03 X  a0 = 1.0000e+02  r0 = 7.3427e+00  b2 = 0.0013112929731866894\n",
      "i = 23  R = 1.1164081437267706  g = 7.5732e+03 X  a0 = 1.0000e+02  r0 = 7.3189e+00  b2 = 0.001310916807813701\n",
      "i = 24  R = 1.0887286029732142  g = 9.2501e+03 X  a0 = 1.0000e+02  r0 = 7.2972e+00  b2 = 0.00131057412079892\n",
      "i = 25  R = 1.0623883948367656  g = 1.3829e+04 X  a0 = 1.0000e+02  r0 = 7.2780e+00  b2 = 0.0013102710635809318\n"
     ]
    }
   ],
   "source": [
    "for i in range(restart, nR):\n",
    "    R = Rs[i]\n",
    "    s = he4.construct_helium4_system(R, ELL)\n",
    "    result = optimize.fsolve(inverse_a0_diff, guess, args=(s), factor=0.1)\n",
    "    g = result[0]\n",
    "    a0, r0 = s.a0_and_r0(g, 0, momenta)\n",
    "    \n",
    "    if np.abs((he4.A0 - a0)/he4.A0) < 1e-4:\n",
    "        e2s = s.bound_state_spectrum(g, 0)\n",
    "        gs[i] = g\n",
    "        r0s[i] = r0\n",
    "        b2s[i] = np.abs(e2s[0])\n",
    "        print(f'i = {i}  R = {R}  g = {g/X:.4e} X  a0 = {a0:.4e}  r0 = {r0:.4e}  b2 = {np.abs(e2s[0])}')\n",
    "        guess = g\n",
    "    else:\n",
    "        break"
   ]
  },
  {
   "cell_type": "code",
   "execution_count": 28,
   "id": "47a699f3",
   "metadata": {},
   "outputs": [],
   "source": [
    "restart = 26\n",
    "s = he4.construct_helium4_system(Rs[restart], ELL)"
   ]
  },
  {
   "cell_type": "code",
   "execution_count": 38,
   "id": "8b2a7500",
   "metadata": {},
   "outputs": [
    {
     "data": {
      "text/plain": [
       "0.014427023535276869"
      ]
     },
     "execution_count": 38,
     "metadata": {},
     "output_type": "execute_result"
    }
   ],
   "source": [
    "guess = -40000*X\n",
    "inverse_a0_diff(guess, s)"
   ]
  },
  {
   "cell_type": "code",
   "execution_count": 39,
   "id": "cc3cb282",
   "metadata": {},
   "outputs": [
    {
     "name": "stdout",
     "output_type": "stream",
     "text": [
      "i = 26  R = 1.0372926059823537  g = -3.8923e+04 X  a0 = 1.0000e+02  r0 = 7.2615e+00  b2 = 0.0013100111334430663\n",
      "i = 27  R = 1.0133550843058379  g = 1.4832e+03 X  a0 = 1.0000e+02  r0 = 7.2478e+00  b2 = 0.0013097954390147329\n",
      "i = 28  R = 0.9904974508252551  g = 4.6927e+03 X  a0 = 1.0000e+02  r0 = 7.2369e+00  b2 = 0.0013096229901129013\n",
      "i = 29  R = 0.9686482423511685  g = 6.2308e+03 X  a0 = 1.0000e+02  r0 = 7.2285e+00  b2 = 0.001309491010550352\n",
      "i = 30  R = 0.9477421651781218  g = 7.3277e+03 X  a0 = 1.0000e+02  r0 = 7.2224e+00  b2 = 0.001309395414593954\n",
      "i = 31  R = 0.9277194433785839  g = 8.2575e+03 X  a0 = 1.0000e+02  r0 = 7.2183e+00  b2 = 0.0013093311560888024\n",
      "i = 32  R = 0.9085252479983373  g = 9.1166e+03 X  a0 = 1.0000e+02  r0 = 7.2159e+00  b2 = 0.0013092925929792864\n",
      "i = 33  R = 0.8901091956740469  g = 9.9480e+03 X  a0 = 1.0000e+02  r0 = 7.2147e+00  b2 = 0.001309273863222863\n",
      "i = 34  R = 0.872424907018271  g = 1.0774e+04 X  a0 = 1.0000e+02  r0 = 7.2144e+00  b2 = 0.0013092691650489956\n",
      "i = 35  R = 0.8554296166218112  g = 1.1609e+04 X  a0 = 1.0000e+02  r0 = 7.2146e+00  b2 = 0.0013092730096277143\n",
      "i = 36  R = 0.8390838277691651  g = 1.2460e+04 X  a0 = 1.0000e+02  r0 = 7.2151e+00  b2 = 0.0013092804075473163\n",
      "i = 37  R = 0.8233510059984933  g = 1.3335e+04 X  a0 = 1.0000e+02  r0 = 7.2155e+00  b2 = 0.0013092870276242299\n",
      "i = 38  R = 0.8081973065015884  g = 1.4239e+04 X  a0 = 1.0000e+02  r0 = 7.2157e+00  b2 = 0.001309289291490154\n",
      "i = 39  R = 0.7935913310828852  g = 1.5175e+04 X  a0 = 1.0000e+02  r0 = 7.2154e+00  b2 = 0.0013092844228462556\n",
      "i = 40  R = 0.7795039110044907  g = 1.6149e+04 X  a0 = 1.0000e+02  r0 = 7.2145e+00  b2 = 0.001309270459248746\n",
      "i = 41  R = 0.7659079125567378  g = 1.7165e+04 X  a0 = 1.0000e+02  r0 = 7.2130e+00  b2 = 0.0013092462316721914\n",
      "i = 42  R = 0.7527780626271938  g = 1.8228e+04 X  a0 = 1.0000e+02  r0 = 7.2107e+00  b2 = 0.0013092112948616533\n",
      "i = 43  R = 0.740090791908758  g = 1.9344e+04 X  a0 = 1.0000e+02  r0 = 7.2078e+00  b2 = 0.00130916585945845\n",
      "i = 44  R = 0.7278240937003255  g = 2.0521e+04 X  a0 = 1.0000e+02  r0 = 7.2043e+00  b2 = 0.0013091106972453715\n",
      "i = 45  R = 0.7159573965204289  g = 2.1769e+04 X  a0 = 1.0000e+02  r0 = 7.2003e+00  b2 = 0.0013090470543540374\n",
      "i = 46  R = 0.704471448982668  g = 2.3103e+04 X  a0 = 1.0000e+02  r0 = 7.1958e+00  b2 = 0.0013089764944508944\n",
      "i = 47  R = 0.6933482155776785  g = 2.4542e+04 X  a0 = 1.0000e+02  r0 = 7.1910e+00  b2 = 0.0013089008282669821\n",
      "i = 48  R = 0.6825707821749166  g = 2.6119e+04 X  a0 = 1.0000e+02  r0 = 7.1859e+00  b2 = 0.0013088219826057925\n",
      "i = 49  R = 0.6721232702028517  g = 2.7882e+04 X  a0 = 1.0000e+02  r0 = 7.1808e+00  b2 = 0.001308741911013839\n"
     ]
    }
   ],
   "source": [
    "for i in range(restart, nR):\n",
    "    R = Rs[i]\n",
    "    s = he4.construct_helium4_system(R, ELL)\n",
    "    result = optimize.fsolve(inverse_a0_diff, guess, args=(s), factor=0.1)\n",
    "    g = result[0]\n",
    "    a0, r0 = s.a0_and_r0(g, 0, momenta)\n",
    "    \n",
    "    if np.abs((he4.A0 - a0)/he4.A0) < 1e-4:\n",
    "        e2s = s.bound_state_spectrum(g, 0)\n",
    "        gs[i] = g\n",
    "        r0s[i] = r0\n",
    "        b2s[i] = np.abs(e2s[0])\n",
    "        print(f'i = {i}  R = {R}  g = {g/X:.4e} X  a0 = {a0:.4e}  r0 = {r0:.4e}  b2 = {np.abs(e2s[0])}')\n",
    "        guess = g\n",
    "    else:\n",
    "        break"
   ]
  },
  {
   "cell_type": "code",
   "execution_count": 40,
   "id": "dec7cbbe",
   "metadata": {},
   "outputs": [],
   "source": [
    "import matplotlib.pyplot as plt\n",
    "\n",
    "plt.style.use('science')\n",
    "gr = 4/3\n",
    "h = 3"
   ]
  },
  {
   "cell_type": "code",
   "execution_count": 51,
   "id": "b30e20f1",
   "metadata": {},
   "outputs": [
    {
     "data": {
      "image/png": "[encoded data removed]",
      "text/plain": [
       "<Figure size 800x600 with 1 Axes>"
      ]
     },
     "metadata": {},
     "output_type": "display_data"
    }
   ],
   "source": [
    "fig, ax = plt.subplots(figsize=(gr*h, h), dpi=200)\n",
    "fig.patch.set_facecolor('white')\n",
    "\n",
    "ax.plot(he4.BETA6/Rs, gs)\n",
    "\n",
    "ax.set_xlabel(r'$\\beta_6/R$')\n",
    "ax.set_ylabel(r'$g_{\\rm LO}$');"
   ]
  },
  {
   "cell_type": "code",
   "execution_count": 52,
   "id": "4b147d4d",
   "metadata": {},
   "outputs": [
    {
     "data": {
      "image/png": "[encoded data removed]",
      "text/plain": [
       "<Figure size 800x600 with 1 Axes>"
      ]
     },
     "metadata": {},
     "output_type": "display_data"
    }
   ],
   "source": [
    "fig, ax = plt.subplots(figsize=(gr*h, h), dpi=200)\n",
    "fig.patch.set_facecolor('white')\n",
    "\n",
    "ax.plot(he4.BETA6/Rs, r0s)\n",
    "ax.axhline(he4.R0, color='C1', linestyle='--')\n",
    "\n",
    "ax.set_xlabel(r'$\\beta_6/R$')\n",
    "ax.set_ylabel(r'$r_0$ (Å)');"
   ]
  },
  {
   "cell_type": "code",
   "execution_count": 53,
   "id": "74144a17",
   "metadata": {},
   "outputs": [],
   "source": [
    "np.savetxt('datfiles/he4_LO_nonlocal_rg_flow.txt', np.vstack((Rs, gs)).T, header='R (Å)  g ()')"
   ]
  },
  {
   "cell_type": "code",
   "execution_count": 54,
   "id": "3c28ef18",
   "metadata": {},
   "outputs": [],
   "source": [
    "np.savetxt('datfiles/he4_LO_nonloca_r0s.txt', np.vstack((Rs, r0s)).T, header='R (Å)  r_0 (Å)')"
   ]
  },
  {
   "cell_type": "code",
   "execution_count": null,
   "id": "3f669804",
   "metadata": {},
   "outputs": [],
   "source": []
  }
 ],
 "metadata": {
  "kernelspec": {
   "display_name": "Python 3 (ipykernel)",
   "language": "python",
   "name": "python3"
  },
  "language_info": {
   "codemirror_mode": {
    "name": "ipython",
    "version": 3
   },
   "file_extension": ".py",
   "mimetype": "text/x-python",
   "name": "python",
   "nbconvert_exporter": "python",
   "pygments_lexer": "ipython3",
   "version": "3.10.1"
  }
 },
 "nbformat": 4,
 "nbformat_minor": 5
}
