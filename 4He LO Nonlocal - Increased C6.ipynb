{
 "cells": [
  {
   "cell_type": "markdown",
   "id": "848ee935",
   "metadata": {},
   "source": [
    "# ${}^{4}{\\rm He}$\n",
    "\n",
    "The interaction is defined in `helium4.py`. It is nonlocal, and so is the counterterm. We will use it to tune the scattering length over a range of short-distance cutoffs, $R$."
   ]
  },
  {
   "cell_type": "code",
   "execution_count": 1,
   "id": "640f0bcc",
   "metadata": {},
   "outputs": [],
   "source": [
    "import numpy as np\n",
    "from scipy import optimize\n",
    "\n",
    "import mu2\n",
    "\n",
    "import helium4plus as he4"
   ]
  },
  {
   "cell_type": "code",
   "execution_count": 4,
   "id": "d91a6118",
   "metadata": {},
   "outputs": [],
   "source": [
    "ELL = 0\n",
    "R_MAX = he4.BETA6/2\n",
    "R_MIN = he4.BETA6/8\n",
    "nR = 50\n",
    "Rs = 2/np.linspace(2/R_MAX, 2/R_MIN, nR)\n",
    "gs = np.empty(nR)\n",
    "b2s = np.empty(nR)\n",
    "r0s = np.empty(nR)"
   ]
  },
  {
   "cell_type": "code",
   "execution_count": 5,
   "id": "edb4b92e",
   "metadata": {},
   "outputs": [],
   "source": [
    "momenta = np.linspace(0.01/he4.BETA6, 0.3/he4.BETA6, 30)\n",
    "X = he4.FACTOR * he4.BETA6 # K•Å^3\n",
    "\n",
    "def inverse_a0_diff(g, sys):\n",
    "    a0, _ = sys.a0_and_r0(g, 0, momenta, use_c=True)\n",
    "    return np.abs((1/he4.A0 - 1/a0)*he4.A0)"
   ]
  },
  {
   "cell_type": "code",
   "execution_count": 6,
   "id": "63cae654",
   "metadata": {},
   "outputs": [],
   "source": [
    "s = he4.Helium4System(Rs[0], ELL)"
   ]
  },
  {
   "cell_type": "code",
   "execution_count": 7,
   "id": "1889cc96",
   "metadata": {},
   "outputs": [
    {
     "data": {
      "text/plain": [
       "((106.06275934159724, 8.66882082140409), array([-0.00117789]))"
      ]
     },
     "execution_count": 7,
     "metadata": {},
     "output_type": "execute_result"
    }
   ],
   "source": [
    "guess = 760*X\n",
    "s.a0_and_r0(guess, 0, momenta, use_c=True), s.bound_state_spectrum(guess, 0)"
   ]
  },
  {
   "cell_type": "code",
   "execution_count": 8,
   "id": "3a11ab91",
   "metadata": {},
   "outputs": [
    {
     "name": "stdout",
     "output_type": "stream",
     "text": [
      "i = 0  R = 2.770625  g = 7.5869e+02 X  a0 = 1.0000e+02  r0 = 8.6430e+00  b2 = 0.0013322182695371617\n",
      "i = 1  R = 2.61078125  g = 1.3443e+03 X  a0 = 1.0000e+02  r0 = 8.3969e+00  b2 = 0.0013281185293907078\n"
     ]
    },
    {
     "name": "stderr",
     "output_type": "stream",
     "text": [
      "/Library/Frameworks/Python.framework/Versions/3.10/lib/python3.10/site-packages/scipy/optimize/_minpack_py.py:175: RuntimeWarning: The iteration is not making good progress, as measured by the \n",
      "  improvement from the last ten iterations.\n",
      "  warnings.warn(msg, RuntimeWarning)\n"
     ]
    }
   ],
   "source": [
    "for i in range(nR):\n",
    "    R = Rs[i]\n",
    "    s = he4.Helium4System(R, ELL)\n",
    "    result = optimize.fsolve(inverse_a0_diff, guess, args=(s), factor=0.1)\n",
    "    g = result[0]\n",
    "    a0, r0 = s.a0_and_r0(g, 0, momenta)\n",
    "    \n",
    "    if np.abs((he4.A0 - a0)/he4.A0) < 1e-4:\n",
    "        e2s = s.bound_state_spectrum(g, 0)\n",
    "        gs[i] = g\n",
    "        r0s[i] = r0\n",
    "        b2s[i] = np.abs(e2s[0])\n",
    "        print(f'i = {i}  R = {R}  g = {g/X:.4e} X  a0 = {a0:.4e}  r0 = {r0:.4e}  b2 = {np.abs(e2s[0])}')\n",
    "    else:\n",
    "        break"
   ]
  },
  {
   "cell_type": "code",
   "execution_count": 9,
   "id": "b8945430",
   "metadata": {},
   "outputs": [],
   "source": [
    "restart = 2\n",
    "s = he4.Helium4System(Rs[restart], ELL)"
   ]
  },
  {
   "cell_type": "code",
   "execution_count": 10,
   "id": "993a44b7",
   "metadata": {},
   "outputs": [
    {
     "data": {
      "text/plain": [
       "0.01836023452546076"
      ]
     },
     "execution_count": 10,
     "metadata": {},
     "output_type": "execute_result"
    }
   ],
   "source": [
    "guess = -2200*X\n",
    "inverse_a0_diff(guess, s)"
   ]
  },
  {
   "cell_type": "code",
   "execution_count": 11,
   "id": "67cc016e",
   "metadata": {},
   "outputs": [
    {
     "name": "stdout",
     "output_type": "stream",
     "text": [
      "i = 2  R = 2.468375  g = -2.2334e+03 X  a0 = 1.0000e+02  r0 = 8.2035e+00  b2 = 0.0013249316806918624\n",
      "i = 3  R = 2.3407004310344828  g = 1.2789e+02 X  a0 = 1.0000e+02  r0 = 8.0559e+00  b2 = 0.0013225157318995408\n",
      "i = 4  R = 2.2255840163934426  g = 4.8849e+02 X  a0 = 1.0000e+02  r0 = 7.9468e+00  b2 = 0.0013207409454499127\n",
      "i = 5  R = 2.121259765625  g = 7.1293e+02 X  a0 = 1.0000e+02  r0 = 7.8695e+00  b2 = 0.0013194888132175375\n",
      "i = 6  R = 2.0262779850746266  g = 9.0725e+02 X  a0 = 1.0000e+02  r0 = 7.8177e+00  b2 = 0.0013186510772197817\n",
      "i = 7  R = 1.9394375  g = 1.0972e+03 X  a0 = 1.0000e+02  r0 = 7.7855e+00  b2 = 0.0013181293021764474\n",
      "i = 8  R = 1.859734589041096  g = 1.2924e+03 X  a0 = 1.0000e+02  r0 = 7.7673e+00  b2 = 0.001317835075655582\n",
      "i = 9  R = 1.7863240131578948  g = 1.4979e+03 X  a0 = 1.0000e+02  r0 = 7.7584e+00  b2 = 0.0013176906833826637\n",
      "i = 10  R = 1.718488924050633  g = 1.7167e+03 X  a0 = 1.0000e+02  r0 = 7.7547e+00  b2 = 0.0013176299013805365\n",
      "i = 11  R = 1.6556173780487806  g = 1.9511e+03 X  a0 = 1.0000e+02  r0 = 7.7528e+00  b2 = 0.001317598675789409\n",
      "i = 12  R = 1.5971838235294118  g = 2.2031e+03 X  a0 = 1.0000e+02  r0 = 7.7502e+00  b2 = 0.0013175554238008783\n",
      "i = 13  R = 1.5427343749999998  g = 2.4745e+03 X  a0 = 1.0000e+02  r0 = 7.7449e+00  b2 = 0.0013174708443591285\n",
      "i = 14  R = 1.491875  g = 2.7676e+03 X  a0 = 1.0000e+02  r0 = 7.7360e+00  b2 = 0.0013173271380489155\n",
      "i = 15  R = 1.4442619680851063  g = 3.0849e+03 X  a0 = 1.0000e+02  r0 = 7.7229e+00  b2 = 0.0013171167148019\n",
      "i = 16  R = 1.3995940721649487  g = 3.4294e+03 X  a0 = 1.0000e+02  r0 = 7.7057e+00  b2 = 0.0013168405135787662\n",
      "i = 17  R = 1.35760625  g = 3.8054e+03 X  a0 = 1.0000e+02  r0 = 7.6848e+00  b2 = 0.001316506052340541\n",
      "i = 18  R = 1.3180643203883498  g = 4.2189e+03 X  a0 = 1.0000e+02  r0 = 7.6609e+00  b2 = 0.0013161254382025643\n",
      "i = 19  R = 1.280760613207547  g = 4.6787e+03 X  a0 = 1.0000e+02  r0 = 7.6351e+00  b2 = 0.00131571345828291\n"
     ]
    }
   ],
   "source": [
    "for i in range(restart, nR):\n",
    "    R = Rs[i]\n",
    "    s = he4.Helium4System(R, ELL)\n",
    "    result = optimize.fsolve(inverse_a0_diff, guess, args=(s), factor=0.1)\n",
    "    g = result[0]\n",
    "    a0, r0 = s.a0_and_r0(g, 0, momenta)\n",
    "    \n",
    "    if np.abs((he4.A0 - a0)/he4.A0) < 1e-4:\n",
    "        e2s = s.bound_state_spectrum(g, 0)\n",
    "        gs[i] = g\n",
    "        r0s[i] = r0\n",
    "        b2s[i] = np.abs(e2s[0])\n",
    "        print(f'i = {i}  R = {R}  g = {g/X:.4e} X  a0 = {a0:.4e}  r0 = {r0:.4e}  b2 = {np.abs(e2s[0])}')\n",
    "    else:\n",
    "        break"
   ]
  },
  {
   "cell_type": "code",
   "execution_count": 12,
   "id": "8d9ee1b4",
   "metadata": {},
   "outputs": [],
   "source": [
    "restart = 20\n",
    "s = he4.Helium4System(Rs[restart], ELL)"
   ]
  },
  {
   "cell_type": "code",
   "execution_count": 13,
   "id": "d5f8bade",
   "metadata": {},
   "outputs": [
    {
     "data": {
      "text/plain": [
       "0.01259535000653067"
      ]
     },
     "execution_count": 13,
     "metadata": {},
     "output_type": "execute_result"
    }
   ],
   "source": [
    "guess = 5200*X\n",
    "inverse_a0_diff(guess, s)"
   ]
  },
  {
   "cell_type": "code",
   "execution_count": 14,
   "id": "a2a668ba",
   "metadata": {},
   "outputs": [
    {
     "name": "stdout",
     "output_type": "stream",
     "text": [
      "i = 20  R = 1.2455103211009175  g = 5.1996e+03 X  a0 = 1.0000e+02  r0 = 7.6083e+00  b2 = 0.001315285880352991\n",
      "i = 21  R = 1.2121484375  g = 5.8077e+03 X  a0 = 1.0000e+02  r0 = 7.5814e+00  b2 = 0.0013148580879114012\n",
      "i = 22  R = 1.1805271739130434  g = 6.5556e+03 X  a0 = 1.0000e+02  r0 = 7.5553e+00  b2 = 0.0013144439718564343\n",
      "i = 23  R = 1.1505137711864406  g = 7.5685e+03 X  a0 = 1.0000e+02  r0 = 7.5308e+00  b2 = 0.0013140552682653916\n",
      "i = 24  R = 1.1219886363636362  g = 9.2384e+03 X  a0 = 1.0000e+02  r0 = 7.5085e+00  b2 = 0.0013137010988759723\n",
      "i = 25  R = 1.0948437500000001  g = 1.3771e+04 X  a0 = 1.0000e+02  r0 = 7.4887e+00  b2 = 0.0013133877981876085\n"
     ]
    }
   ],
   "source": [
    "for i in range(restart, nR):\n",
    "    R = Rs[i]\n",
    "    s = he4.Helium4System(R, ELL)\n",
    "    result = optimize.fsolve(inverse_a0_diff, guess, args=(s), factor=0.1)\n",
    "    g = result[0]\n",
    "    a0, r0 = s.a0_and_r0(g, 0, momenta)\n",
    "    \n",
    "    if np.abs((he4.A0 - a0)/he4.A0) < 1e-4:\n",
    "        e2s = s.bound_state_spectrum(g, 0)\n",
    "        gs[i] = g\n",
    "        r0s[i] = r0\n",
    "        b2s[i] = np.abs(e2s[0])\n",
    "        print(f'i = {i}  R = {R}  g = {g/X:.4e} X  a0 = {a0:.4e}  r0 = {r0:.4e}  b2 = {np.abs(e2s[0])}')\n",
    "        guess = g\n",
    "    else:\n",
    "        break"
   ]
  },
  {
   "cell_type": "code",
   "execution_count": 15,
   "id": "47a699f3",
   "metadata": {},
   "outputs": [],
   "source": [
    "restart = 26\n",
    "s = he4.Helium4System(Rs[restart], ELL)"
   ]
  },
  {
   "cell_type": "code",
   "execution_count": 16,
   "id": "8b2a7500",
   "metadata": {},
   "outputs": [
    {
     "data": {
      "text/plain": [
       "0.015644491375171876"
      ]
     },
     "execution_count": 16,
     "metadata": {},
     "output_type": "execute_result"
    }
   ],
   "source": [
    "guess = -40000*X\n",
    "inverse_a0_diff(guess, s)"
   ]
  },
  {
   "cell_type": "code",
   "execution_count": 17,
   "id": "cc3cb282",
   "metadata": {},
   "outputs": [
    {
     "name": "stdout",
     "output_type": "stream",
     "text": [
      "i = 26  R = 1.0689812992125984  g = -4.1266e+04 X  a0 = 1.0000e+02  r0 = 7.4717e+00  b2 = 0.0013131189195540842\n",
      "i = 27  R = 1.0443125  g = 1.4452e+03 X  a0 = 1.0000e+02  r0 = 7.4576e+00  b2 = 0.0013128959840980126\n",
      "i = 28  R = 1.0207565789473683  g = 4.6810e+03 X  a0 = 1.0000e+02  r0 = 7.4463e+00  b2 = 0.0013127175726384262\n",
      "i = 29  R = 0.9982398897058824  g = 6.2249e+03 X  a0 = 1.0000e+02  r0 = 7.4377e+00  b2 = 0.0013125809971659915\n",
      "i = 30  R = 0.9766951438848921  g = 7.3239e+03 X  a0 = 9.9999e+01  r0 = 7.4310e+00  b2 = 0.0013125035883857887\n",
      "i = 31  R = 0.9560607394366198  g = 8.2548e+03 X  a0 = 1.0000e+02  r0 = 7.4272e+00  b2 = 0.0013124154584529771\n",
      "i = 32  R = 0.9362801724137931  g = 9.1145e+03 X  a0 = 1.0000e+02  r0 = 7.4247e+00  b2 = 0.0013123754674257073\n",
      "i = 33  R = 0.9173015202702703  g = 9.9462e+03 X  a0 = 1.0000e+02  r0 = 7.4234e+00  b2 = 0.0013123560076477867\n",
      "i = 34  R = 0.8990769867549668  g = 1.0773e+04 X  a0 = 1.0000e+02  r0 = 7.4231e+00  b2 = 0.0013123510814351696\n",
      "i = 35  R = 0.8815625000000001  g = 1.1607e+04 X  a0 = 1.0000e+02  r0 = 7.4234e+00  b2 = 0.0013123550116015065\n",
      "i = 36  R = 0.8647173566878981  g = 1.2459e+04 X  a0 = 1.0000e+02  r0 = 7.4239e+00  b2 = 0.0013123626469376138\n",
      "i = 37  R = 0.84850390625  g = 1.3334e+04 X  a0 = 1.0000e+02  r0 = 7.4243e+00  b2 = 0.0013123695080736954\n",
      "i = 38  R = 0.8328872699386504  g = 1.4238e+04 X  a0 = 1.0000e+02  r0 = 7.4245e+00  b2 = 0.0013123719209528863\n",
      "i = 39  R = 0.8178350903614459  g = 1.5174e+04 X  a0 = 1.0000e+02  r0 = 7.4242e+00  b2 = 0.0013123669379712306\n",
      "i = 40  R = 0.8033173076923077  g = 1.6148e+04 X  a0 = 1.0000e+02  r0 = 7.4232e+00  b2 = 0.0013123526845056246\n",
      "i = 41  R = 0.7893059593023255  g = 1.7163e+04 X  a0 = 1.0000e+02  r0 = 7.4217e+00  b2 = 0.0013123276591920582\n",
      "i = 42  R = 0.775775  g = 1.8226e+04 X  a0 = 1.0000e+02  r0 = 7.4194e+00  b2 = 0.001312291654855197\n",
      "i = 43  R = 0.7627001404494381  g = 1.9342e+04 X  a0 = 1.0000e+02  r0 = 7.4164e+00  b2 = 0.0013122448080121394\n",
      "i = 44  R = 0.7500587016574586  g = 2.0519e+04 X  a0 = 1.0000e+02  r0 = 7.4128e+00  b2 = 0.001312187934120674\n",
      "i = 45  R = 0.7378294836956522  g = 2.1767e+04 X  a0 = 1.0000e+02  r0 = 7.4087e+00  b2 = 0.001312122247297715\n",
      "i = 46  R = 0.7259926470588236  g = 2.3100e+04 X  a0 = 1.0000e+02  r0 = 7.4040e+00  b2 = 0.0013120494154951778\n",
      "i = 47  R = 0.7145296052631579  g = 2.4539e+04 X  a0 = 1.0000e+02  r0 = 7.3990e+00  b2 = 0.0013119716566297659\n",
      "i = 48  R = 0.7034229274611399  g = 2.6115e+04 X  a0 = 1.0000e+02  r0 = 7.3939e+00  b2 = 0.0013118898603166331\n",
      "i = 49  R = 0.69265625  g = 2.7877e+04 X  a0 = 1.0000e+02  r0 = 7.3887e+00  b2 = 0.001311807159433859\n"
     ]
    }
   ],
   "source": [
    "for i in range(restart, nR):\n",
    "    R = Rs[i]\n",
    "    s = he4.Helium4System(R, ELL)\n",
    "    result = optimize.fsolve(inverse_a0_diff, guess, args=(s), factor=0.1)\n",
    "    g = result[0]\n",
    "    a0, r0 = s.a0_and_r0(g, 0, momenta)\n",
    "    \n",
    "    if np.abs((he4.A0 - a0)/he4.A0) < 1e-4:\n",
    "        e2s = s.bound_state_spectrum(g, 0)\n",
    "        gs[i] = g\n",
    "        r0s[i] = r0\n",
    "        b2s[i] = np.abs(e2s[0])\n",
    "        print(f'i = {i}  R = {R}  g = {g/X:.4e} X  a0 = {a0:.4e}  r0 = {r0:.4e}  b2 = {np.abs(e2s[0])}')\n",
    "        guess = g\n",
    "    else:\n",
    "        break"
   ]
  },
  {
   "cell_type": "code",
   "execution_count": 18,
   "id": "dec7cbbe",
   "metadata": {},
   "outputs": [],
   "source": [
    "import matplotlib.pyplot as plt\n",
    "\n",
    "plt.style.use('science')\n",
    "gr = 4/3\n",
    "h = 3"
   ]
  },
  {
   "cell_type": "code",
   "execution_count": 19,
   "id": "b30e20f1",
   "metadata": {},
   "outputs": [
    {
     "data": {
      "image/png": "[encoded data removed]",
      "text/plain": [
       "<Figure size 800x600 with 1 Axes>"
      ]
     },
     "metadata": {},
     "output_type": "display_data"
    }
   ],
   "source": [
    "fig, ax = plt.subplots(figsize=(gr*h, h), dpi=200)\n",
    "fig.patch.set_facecolor('white')\n",
    "\n",
    "ax.plot(he4.BETA6/Rs, gs)\n",
    "\n",
    "ax.set_xlabel(r'$\\beta_6/R$')\n",
    "ax.set_ylabel(r'$g_{\\rm LO}$');"
   ]
  },
  {
   "cell_type": "code",
   "execution_count": 20,
   "id": "4b147d4d",
   "metadata": {},
   "outputs": [
    {
     "data": {
      "image/png": "[encoded data removed]",
      "text/plain": [
       "<Figure size 800x600 with 1 Axes>"
      ]
     },
     "metadata": {},
     "output_type": "display_data"
    }
   ],
   "source": [
    "fig, ax = plt.subplots(figsize=(gr*h, h), dpi=200)\n",
    "fig.patch.set_facecolor('white')\n",
    "\n",
    "ax.plot(he4.BETA6/Rs, r0s)\n",
    "ax.axhline(he4.R0, color='C1', linestyle='--')\n",
    "\n",
    "ax.set_xlabel(r'$\\beta_6/R$')\n",
    "ax.set_ylabel(r'$r_0$ (Å)');"
   ]
  },
  {
   "cell_type": "code",
   "execution_count": 21,
   "id": "74144a17",
   "metadata": {},
   "outputs": [],
   "source": [
    "np.savetxt('datfiles/he4plus_LO_nonlocal_rg_flow.txt', np.vstack((Rs, gs)).T, header='R (Å)  g ()')"
   ]
  },
  {
   "cell_type": "code",
   "execution_count": 22,
   "id": "3c28ef18",
   "metadata": {},
   "outputs": [],
   "source": [
    "np.savetxt('datfiles/he4plus_LO_nonlocal_r0s.txt', np.vstack((Rs, r0s)).T, header='R (Å)  r_0 (Å)')"
   ]
  },
  {
   "cell_type": "code",
   "execution_count": null,
   "id": "3f669804",
   "metadata": {},
   "outputs": [],
   "source": []
  }
 ],
 "metadata": {
  "kernelspec": {
   "display_name": "Python 3 (ipykernel)",
   "language": "python",
   "name": "python3"
  },
  "language_info": {
   "codemirror_mode": {
    "name": "ipython",
    "version": 3
   },
   "file_extension": ".py",
   "mimetype": "text/x-python",
   "name": "python",
   "nbconvert_exporter": "python",
   "pygments_lexer": "ipython3",
   "version": "3.10.1"
  }
 },
 "nbformat": 4,
 "nbformat_minor": 5
}
