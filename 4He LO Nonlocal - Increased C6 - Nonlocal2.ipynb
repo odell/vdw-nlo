{
 "cells": [
  {
   "cell_type": "markdown",
   "id": "848ee935",
   "metadata": {},
   "source": [
    "# ${}^{4}{\\rm He}$\n",
    "\n",
    "The interaction is defined in `helium4.py`. It is nonlocal, and so is the counterterm. We will use it to tune the scattering length over a range of short-distance cutoffs, $R$."
   ]
  },
  {
   "cell_type": "code",
   "execution_count": 1,
   "id": "640f0bcc",
   "metadata": {},
   "outputs": [],
   "source": [
    "import numpy as np\n",
    "import matplotlib.pyplot as plt\n",
    "from scipy import optimize\n",
    "\n",
    "import mu2\n",
    "\n",
    "import helium4plusplus as he4"
   ]
  },
  {
   "cell_type": "code",
   "execution_count": 5,
   "id": "d91a6118",
   "metadata": {},
   "outputs": [],
   "source": [
    "ELL = 0\n",
    "R_MAX = he4.BETA6/2\n",
    "R_MIN = he4.BETA6/8\n",
    "N1 = 2\n",
    "N2 = 3\n",
    "NCT = 6\n",
    "\n",
    "nR = 50\n",
    "Rs = 2/np.linspace(2/R_MAX, 2/R_MIN, nR)\n",
    "\n",
    "index = 8\n",
    "Rsp = 2/np.linspace(2/(0.9*Rs[index]), 2/(1.1*Rs[index]), nR)\n",
    "gs = np.empty(nR)\n",
    "b2s = np.empty(nR)\n",
    "r0s = np.empty(nR)"
   ]
  },
  {
   "cell_type": "code",
   "execution_count": 6,
   "id": "edb4b92e",
   "metadata": {},
   "outputs": [],
   "source": [
    "momenta = np.linspace(0.01/he4.BETA6, 0.1/he4.BETA6, 30)\n",
    "X = he4.FACTOR * he4.BETA6 # K•Å^3\n",
    "\n",
    "def inverse_a0_diff(g, sys):\n",
    "    a0 = -1/sys.kcotd_gen_fast([0], g, 0)[0]\n",
    "    return (1/he4.A0 - 1/a0)*he4.A0\n",
    "\n",
    "\n",
    "def a0_and_r0(g, sys):\n",
    "    a0 = -1/sys.kcotd_gen_fast([0], g, 0)[0]\n",
    "    kcd = sys.kcotd_gen_fast(momenta, g, 0)\n",
    "    r0 = 2*np.gradient(kcd, momenta**2)[0]\n",
    "    return a0, r0"
   ]
  },
  {
   "cell_type": "code",
   "execution_count": 7,
   "id": "63cae654",
   "metadata": {},
   "outputs": [],
   "source": [
    "s = he4.NonlocalHelium4System2(Rsp[0], ELL, N1, N2, NCT)"
   ]
  },
  {
   "cell_type": "code",
   "execution_count": 9,
   "id": "287fc287",
   "metadata": {},
   "outputs": [],
   "source": [
    "rgf = np.loadtxt('datfiles/he4plusplus_LO_nonlocal2_2_6_6_rg_flow.txt')"
   ]
  },
  {
   "cell_type": "code",
   "execution_count": 10,
   "id": "69b32bd3",
   "metadata": {},
   "outputs": [
    {
     "data": {
      "text/plain": [
       "array([1.85973459e+00, 2.06100892e+03])"
      ]
     },
     "execution_count": 10,
     "metadata": {},
     "output_type": "execute_result"
    }
   ],
   "source": [
    "rgf[index]"
   ]
  },
  {
   "cell_type": "code",
   "execution_count": 23,
   "id": "1889cc96",
   "metadata": {},
   "outputs": [
    {
     "data": {
      "text/plain": [
       "(-0.005862841727848414, array([-1.32860314e-03, -8.13878706e+01]))"
      ]
     },
     "execution_count": 23,
     "metadata": {},
     "output_type": "execute_result"
    }
   ],
   "source": [
    "guess = -8.9\n",
    "inverse_a0_diff(guess, s), s.bound_state_spectrum(guess, 0)"
   ]
  },
  {
   "cell_type": "code",
   "execution_count": 24,
   "id": "3a11ab91",
   "metadata": {},
   "outputs": [
    {
     "name": "stdout",
     "output_type": "stream",
     "text": [
      "i = 0  R = 1.6738e+00  g = -1.3169e-01 X  a0 = 1.0000e+02  r0 = 7.5151e+00  b2 = 1.3125e-03  n = 2\n",
      "i = 1  R = 1.6800e+00  g = -2.1433e-01 X  a0 = 1.0000e+02  r0 = 7.5176e+00  b2 = 1.3126e-03  n = 2\n",
      "i = 2  R = 1.6863e+00  g = -2.9933e-01 X  a0 = 1.0000e+02  r0 = 7.5202e+00  b2 = 1.3126e-03  n = 2\n",
      "i = 3  R = 1.6926e+00  g = -3.8691e-01 X  a0 = 1.0000e+02  r0 = 7.5230e+00  b2 = 1.3127e-03  n = 2\n",
      "i = 4  R = 1.6990e+00  g = -4.7729e-01 X  a0 = 1.0000e+02  r0 = 7.5259e+00  b2 = 1.3127e-03  n = 2\n",
      "i = 5  R = 1.7054e+00  g = -5.7075e-01 X  a0 = 1.0000e+02  r0 = 7.5289e+00  b2 = 1.3127e-03  n = 2\n",
      "i = 6  R = 1.7119e+00  g = -6.6755e-01 X  a0 = 1.0000e+02  r0 = 7.5320e+00  b2 = 1.3128e-03  n = 2\n",
      "i = 7  R = 1.7184e+00  g = -7.6803e-01 X  a0 = 1.0000e+02  r0 = 7.5353e+00  b2 = 1.3128e-03  n = 2\n",
      "i = 8  R = 1.7250e+00  g = -8.7255e-01 X  a0 = 1.0000e+02  r0 = 7.5387e+00  b2 = 1.3129e-03  n = 2\n",
      "i = 9  R = 1.7316e+00  g = -9.8150e-01 X  a0 = 1.0000e+02  r0 = 7.5422e+00  b2 = 1.3129e-03  n = 2\n",
      "i = 10  R = 1.7383e+00  g = -1.0953e+00 X  a0 = 1.0000e+02  r0 = 7.5459e+00  b2 = 1.3130e-03  n = 2\n",
      "i = 11  R = 1.7450e+00  g = -1.2146e+00 X  a0 = 1.0000e+02  r0 = 7.5497e+00  b2 = 1.3131e-03  n = 2\n",
      "i = 12  R = 1.7518e+00  g = -1.3398e+00 X  a0 = 1.0000e+02  r0 = 7.5536e+00  b2 = 1.3131e-03  n = 2\n",
      "i = 13  R = 1.7586e+00  g = -1.4718e+00 X  a0 = 1.0000e+02  r0 = 7.5576e+00  b2 = 1.3132e-03  n = 2\n",
      "i = 14  R = 1.7655e+00  g = -1.6111e+00 X  a0 = 1.0000e+02  r0 = 7.5618e+00  b2 = 1.3132e-03  n = 2\n",
      "i = 15  R = 1.7724e+00  g = -1.7588e+00 X  a0 = 1.0000e+02  r0 = 7.5661e+00  b2 = 1.3133e-03  n = 2\n",
      "i = 16  R = 1.7794e+00  g = -1.9158e+00 X  a0 = 1.0000e+02  r0 = 7.5705e+00  b2 = 1.3134e-03  n = 2\n",
      "i = 17  R = 1.7864e+00  g = -2.0835e+00 X  a0 = 1.0000e+02  r0 = 7.5750e+00  b2 = 1.3134e-03  n = 2\n",
      "i = 18  R = 1.7936e+00  g = -2.2630e+00 X  a0 = 1.0000e+02  r0 = 7.5797e+00  b2 = 1.3135e-03  n = 2\n",
      "i = 19  R = 1.8007e+00  g = -2.4563e+00 X  a0 = 1.0000e+02  r0 = 7.5844e+00  b2 = 1.3136e-03  n = 2\n",
      "i = 20  R = 1.8079e+00  g = -2.6652e+00 X  a0 = 1.0000e+02  r0 = 7.5893e+00  b2 = 1.3136e-03  n = 2\n",
      "i = 21  R = 1.8152e+00  g = -2.8921e+00 X  a0 = 1.0000e+02  r0 = 7.5943e+00  b2 = 1.3137e-03  n = 2\n",
      "i = 22  R = 1.8225e+00  g = -3.1400e+00 X  a0 = 1.0000e+02  r0 = 7.5994e+00  b2 = 1.3138e-03  n = 2\n",
      "i = 23  R = 1.8299e+00  g = -3.4123e+00 X  a0 = 1.0000e+02  r0 = 7.6046e+00  b2 = 1.3139e-03  n = 2\n",
      "i = 24  R = 1.8374e+00  g = -3.7135e+00 X  a0 = 1.0000e+02  r0 = 7.6099e+00  b2 = 1.3139e-03  n = 2\n",
      "i = 25  R = 1.8449e+00  g = -4.0490e+00 X  a0 = 1.0000e+02  r0 = 7.6154e+00  b2 = 1.3140e-03  n = 2\n",
      "i = 26  R = 1.8525e+00  g = -4.4258e+00 X  a0 = 1.0000e+02  r0 = 7.6209e+00  b2 = 1.3141e-03  n = 2\n",
      "i = 27  R = 1.8601e+00  g = -4.8529e+00 X  a0 = 1.0000e+02  r0 = 7.6265e+00  b2 = 1.3142e-03  n = 2\n",
      "i = 28  R = 1.8678e+00  g = -5.3418e+00 X  a0 = 1.0000e+02  r0 = 7.6322e+00  b2 = 1.3143e-03  n = 2\n",
      "i = 29  R = 1.8756e+00  g = -5.9084e+00 X  a0 = 1.0000e+02  r0 = 7.6379e+00  b2 = 1.3144e-03  n = 2\n",
      "i = 30  R = 1.8834e+00  g = -6.5738e+00 X  a0 = 1.0000e+02  r0 = 7.6438e+00  b2 = 1.3144e-03  n = 2\n",
      "i = 31  R = 1.8913e+00  g = -7.3682e+00 X  a0 = 1.0000e+02  r0 = 7.6497e+00  b2 = 1.3145e-03  n = 2\n",
      "i = 32  R = 1.8993e+00  g = -8.3349e+00 X  a0 = 1.0000e+02  r0 = 7.6557e+00  b2 = 1.3146e-03  n = 2\n",
      "i = 33  R = 1.9073e+00  g = -9.5393e+00 X  a0 = 1.0000e+02  r0 = 7.6617e+00  b2 = 1.3147e-03  n = 2\n",
      "i = 34  R = 1.9154e+00  g = -1.1084e+01 X  a0 = 1.0000e+02  r0 = 7.6678e+00  b2 = 1.3148e-03  n = 2\n",
      "i = 35  R = 1.9236e+00  g = -1.3143e+01 X  a0 = 1.0000e+02  r0 = 7.6740e+00  b2 = 1.3149e-03  n = 2\n",
      "i = 36  R = 1.9318e+00  g = -1.6027e+01 X  a0 = 1.0000e+02  r0 = 7.6802e+00  b2 = 1.3150e-03  n = 2\n",
      "i = 37  R = 1.9401e+00  g = -2.0371e+01 X  a0 = 1.0000e+02  r0 = 7.6864e+00  b2 = 1.3151e-03  n = 2\n",
      "i = 38  R = 1.9485e+00  g = -2.7668e+01 X  a0 = 1.0000e+02  r0 = 7.6927e+00  b2 = 1.3152e-03  n = 2\n",
      "i = 39  R = 1.9570e+00  g = -4.2530e+01 X  a0 = 1.0000e+02  r0 = 7.6990e+00  b2 = 1.3153e-03  n = 2\n",
      "i = 40  R = 1.9655e+00  g = -8.9529e+01 X  a0 = 1.0000e+02  r0 = 7.7052e+00  b2 = 1.3154e-03  n = 2\n"
     ]
    },
    {
     "name": "stderr",
     "output_type": "stream",
     "text": [
      "/Library/Frameworks/Python.framework/Versions/3.10/lib/python3.10/site-packages/scipy/optimize/_minpack_py.py:175: RuntimeWarning: The iteration is not making good progress, as measured by the \n",
      "  improvement from the last ten iterations.\n",
      "  warnings.warn(msg, RuntimeWarning)\n"
     ]
    }
   ],
   "source": [
    "for i in range(nR):\n",
    "    R = Rsp[i]\n",
    "    s = he4.NonlocalHelium4System2(R, ELL, N1, N2, NCT)\n",
    "    result = optimize.fsolve(inverse_a0_diff, guess, args=(s), factor=0.1)\n",
    "    g = result[0]\n",
    "    a0, r0 = a0_and_r0(g, s)\n",
    "    \n",
    "    if np.abs((he4.A0 - a0)/he4.A0) < 1e-4:\n",
    "        e2s = s.bound_state_spectrum(g, 0)\n",
    "        n = e2s.size\n",
    "        gs[i] = g\n",
    "        r0s[i] = r0\n",
    "        b2s[i] = np.abs(e2s[0])\n",
    "        print(f'i = {i}  R = {R:.4e}  g = {g/X:.4e} X  a0 = {a0:.4e}  r0 = {r0:.4e}  b2 = {np.abs(e2s[0]):.4e}  n = {n}')\n",
    "        guess = g\n",
    "    else:\n",
    "        break"
   ]
  },
  {
   "cell_type": "code",
   "execution_count": 25,
   "id": "b8945430",
   "metadata": {},
   "outputs": [],
   "source": [
    "restart = 41\n",
    "s = he4.NonlocalHelium4System2(Rs[restart], ELL, N1, N2, NCT)"
   ]
  },
  {
   "cell_type": "code",
   "execution_count": 53,
   "id": "993a44b7",
   "metadata": {},
   "outputs": [
    {
     "data": {
      "text/plain": [
       "(-0.0006569690243596327,\n",
       " array([-1.31298109e-03, -1.24646727e+02, -4.57811214e+03]))"
      ]
     },
     "execution_count": 53,
     "metadata": {},
     "output_type": "execute_result"
    }
   ],
   "source": [
    "guess = 978.3\n",
    "inverse_a0_diff(guess, s), s.bound_state_spectrum(guess, 0)"
   ]
  },
  {
   "cell_type": "code",
   "execution_count": 54,
   "id": "2688047d",
   "metadata": {},
   "outputs": [
    {
     "name": "stdout",
     "output_type": "stream",
     "text": [
      "i = 41  R = 1.9741e+00  g = 1.0914e+03 X  a0 = 1.0000e+02  r0 = 7.7115e+00  b2 = 1.3155e-03  n = 1\n",
      "i = 42  R = 1.9828e+00  g = 7.8296e+01 X  a0 = 1.0000e+02  r0 = 7.7178e+00  b2 = 1.3155e-03  n = 1\n",
      "i = 43  R = 1.9915e+00  g = 4.0946e+01 X  a0 = 1.0000e+02  r0 = 7.7241e+00  b2 = 1.3156e-03  n = 1\n",
      "i = 44  R = 2.0003e+00  g = 2.7862e+01 X  a0 = 1.0000e+02  r0 = 7.7303e+00  b2 = 1.3157e-03  n = 1\n",
      "i = 45  R = 2.0093e+00  g = 2.1187e+01 X  a0 = 1.0000e+02  r0 = 7.7366e+00  b2 = 1.3158e-03  n = 1\n",
      "i = 46  R = 2.0182e+00  g = 1.7133e+01 X  a0 = 1.0000e+02  r0 = 7.7427e+00  b2 = 1.3159e-03  n = 1\n",
      "i = 47  R = 2.0273e+00  g = 1.4406e+01 X  a0 = 1.0000e+02  r0 = 7.7489e+00  b2 = 1.3160e-03  n = 1\n",
      "i = 48  R = 2.0365e+00  g = 1.2445e+01 X  a0 = 1.0000e+02  r0 = 7.7549e+00  b2 = 1.3161e-03  n = 1\n",
      "i = 49  R = 2.0457e+00  g = 1.0964e+01 X  a0 = 1.0000e+02  r0 = 7.7609e+00  b2 = 1.3162e-03  n = 1\n"
     ]
    }
   ],
   "source": [
    "for i in range(restart, nR):\n",
    "    R = Rsp[i]\n",
    "    s = he4.NonlocalHelium4System2(R, ELL, N1, N2, NCT)\n",
    "    result = optimize.fsolve(inverse_a0_diff, guess, args=(s), factor=0.1)\n",
    "    g = result[0]\n",
    "    a0, r0 = a0_and_r0(g, s)\n",
    "    \n",
    "    if np.abs((he4.A0 - a0)/he4.A0) < 1e-4:\n",
    "        e2s = s.bound_state_spectrum(g, 0)\n",
    "        n = e2s.size\n",
    "        gs[i] = g\n",
    "        r0s[i] = r0\n",
    "        b2s[i] = np.abs(e2s[0])\n",
    "        print(f'i = {i}  R = {R:.4e}  g = {g/X:.4e} X  a0 = {a0:.4e}  r0 = {r0:.4e}  b2 = {np.abs(e2s[0]):.4e}  n = {n}')\n",
    "        guess = g\n",
    "    else:\n",
    "        break"
   ]
  },
  {
   "cell_type": "code",
   "execution_count": 55,
   "id": "dec7cbbe",
   "metadata": {},
   "outputs": [],
   "source": [
    "plt.style.use('science')\n",
    "gr = 4/3\n",
    "h = 3"
   ]
  },
  {
   "cell_type": "code",
   "execution_count": 57,
   "id": "b30e20f1",
   "metadata": {},
   "outputs": [
    {
     "data": {
      "image/png": "[encoded data removed]",
      "text/plain": [
       "<Figure size 800x600 with 1 Axes>"
      ]
     },
     "metadata": {},
     "output_type": "display_data"
    }
   ],
   "source": [
    "fig, ax = plt.subplots(figsize=(gr*h, h), dpi=200)\n",
    "fig.patch.set_facecolor('white')\n",
    "\n",
    "ax.plot(he4.BETA6/Rsp, gs)\n",
    "\n",
    "ax.set_xlabel(r'$\\beta_6/R$')\n",
    "ax.set_ylabel(r'$g_{\\rm LO}$');"
   ]
  },
  {
   "cell_type": "code",
   "execution_count": 58,
   "id": "4b147d4d",
   "metadata": {},
   "outputs": [
    {
     "data": {
      "image/png": "[encoded data removed]",
      "text/plain": [
       "<Figure size 800x600 with 1 Axes>"
      ]
     },
     "metadata": {},
     "output_type": "display_data"
    }
   ],
   "source": [
    "fig, ax = plt.subplots(figsize=(gr*h, h), dpi=200)\n",
    "fig.patch.set_facecolor('white')\n",
    "\n",
    "ax.plot(he4.BETA6/Rsp, r0s)\n",
    "ax.axhline(he4.R0, color='C1', linestyle='--')\n",
    "\n",
    "ax.set_xlabel(r'$\\beta_6/R$')\n",
    "ax.set_ylabel(r'$r_0$ (Å)');"
   ]
  },
  {
   "cell_type": "code",
   "execution_count": 62,
   "id": "1433c699",
   "metadata": {},
   "outputs": [],
   "source": [
    "filename_id = f'he4plusplus_LO_nonlocal2_{N1}_{N2}_{NCT}_R_{Rs[index]:.4e}'"
   ]
  },
  {
   "cell_type": "code",
   "execution_count": 63,
   "id": "74144a17",
   "metadata": {},
   "outputs": [],
   "source": [
    "np.savetxt('datfiles/'+filename_id + '_rg_flow.txt', np.vstack((Rsp, gs)).T, header='R (Å)  g ()')"
   ]
  },
  {
   "cell_type": "code",
   "execution_count": 64,
   "id": "3c28ef18",
   "metadata": {},
   "outputs": [],
   "source": [
    "np.savetxt('datfiles/' + filename_id + '_r0s.txt', np.vstack((Rsp, r0s)).T, header='R (Å)  r_0 (Å)')"
   ]
  },
  {
   "cell_type": "code",
   "execution_count": null,
   "id": "3f669804",
   "metadata": {},
   "outputs": [],
   "source": []
  }
 ],
 "metadata": {
  "kernelspec": {
   "display_name": "Python 3 (ipykernel)",
   "language": "python",
   "name": "python3"
  },
  "language_info": {
   "codemirror_mode": {
    "name": "ipython",
    "version": 3
   },
   "file_extension": ".py",
   "mimetype": "text/x-python",
   "name": "python",
   "nbconvert_exporter": "python",
   "pygments_lexer": "ipython3",
   "version": "3.10.1"
  },
  "toc": {
   "base_numbering": 1,
   "nav_menu": {},
   "number_sections": true,
   "sideBar": true,
   "skip_h1_title": false,
   "title_cell": "Table of Contents",
   "title_sidebar": "Contents",
   "toc_cell": false,
   "toc_position": {},
   "toc_section_display": true,
   "toc_window_display": false
  },
  "varInspector": {
   "cols": {
    "lenName": 16,
    "lenType": 16,
    "lenVar": 40
   },
   "kernels_config": {
    "python": {
     "delete_cmd_postfix": "",
     "delete_cmd_prefix": "del ",
     "library": "var_list.py",
     "varRefreshCmd": "print(var_dic_list())"
    },
    "r": {
     "delete_cmd_postfix": ") ",
     "delete_cmd_prefix": "rm(",
     "library": "var_list.r",
     "varRefreshCmd": "cat(var_dic_list()) "
    }
   },
   "types_to_exclude": [
    "module",
    "function",
    "builtin_function_or_method",
    "instance",
    "_Feature"
   ],
   "window_display": false
  },
  "vscode": {
   "interpreter": {
    "hash": "98590ff4fe04c8543246b2a01debd3de3c5ca9b666f43f1fa87d5110c692004c"
   }
  }
 },
 "nbformat": 4,
 "nbformat_minor": 5
}
