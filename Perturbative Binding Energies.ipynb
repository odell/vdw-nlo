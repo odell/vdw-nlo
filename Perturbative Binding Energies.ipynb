{
 "cells": [
  {
   "cell_type": "code",
   "execution_count": 1,
   "id": "1cc358f3",
   "metadata": {},
   "outputs": [],
   "source": [
    "import numpy as np\n",
    "from scipy import optimize\n",
    "import matplotlib.pyplot as plt\n",
    "\n",
    "import mu2\n",
    "\n",
    "import helium4plusplus as he4"
   ]
  },
  {
   "cell_type": "code",
   "execution_count": 2,
   "id": "23f78f04",
   "metadata": {},
   "outputs": [],
   "source": [
    "# rg_flow = np.loadtxt('datfiles/he4plusplus_LO_nonlocal2_2_6_6_rg_flow.txt')\n",
    "rg_flow = np.loadtxt('datfiles/rg-flow-semilocal-1.dat')"
   ]
  },
  {
   "cell_type": "code",
   "execution_count": 3,
   "id": "7596100c",
   "metadata": {},
   "outputs": [],
   "source": [
    "pt0 = np.array([-3.65706776, 149.07061012])\n",
    "\n",
    "i = 0\n",
    "sys = he4.NonlocalHelium4System2(rg_flow[i, 0], 0, 2, 6, 6)"
   ]
  },
  {
   "cell_type": "code",
   "execution_count": 4,
   "id": "051ed37e",
   "metadata": {},
   "outputs": [],
   "source": [
    "# glo, gnlo = pt0\n",
    "glo, gnlo = rg_flow[i, 1:]\n",
    "\n",
    "# LO only\n",
    "evals, evecs = mu2.bind.bound_states(\n",
    "    sys.v_tilde, sys.interaction.counterterm.gen(1, 0), glo, sys.q, sys.wq, sys.mu\n",
    ")\n",
    "\n",
    "# nonperturbative calculation\n",
    "e2, _ = mu2.bind.bound_states(\n",
    "    sys.v_tilde, sys.interaction.counterterm.gen(glo, gnlo), 1, sys.q, sys.wq, sys.mu\n",
    ")"
   ]
  },
  {
   "cell_type": "code",
   "execution_count": 5,
   "id": "4e936b66",
   "metadata": {},
   "outputs": [
    {
     "data": {
      "text/plain": [
       "(-3.43901541, 61.54875, -0.03976292767699526, array([-0.00131112]))"
      ]
     },
     "execution_count": 5,
     "metadata": {},
     "output_type": "execute_result"
    }
   ],
   "source": [
    "glo, gnlo, evals[0], e2"
   ]
  },
  {
   "cell_type": "markdown",
   "id": "93c8a77f",
   "metadata": {},
   "source": [
    "$$\n",
    "E_2^{({\\rm NLO})} = E_2^{({\\rm LO})} + \\langle \\phi^{({\\rm LO})} | V_{\\rm NLO} | \\phi^{({\\rm LO})} \\rangle\n",
    "$$\n",
    "\n",
    "The shift term becomes\n",
    "\n",
    "$$\n",
    "\\langle \\phi^{({\\rm LO})} | V_{\\rm NLO} | \\phi^{({\\rm LO})} \\rangle = \\int_0^\\infty dpp^2 dkk^2 \\phi(p) V_{\\rm NLO}(p,k) \\phi(k)~.\n",
    "$$\n",
    "\n",
    "The integrals are approximated with summations\n",
    "\n",
    "$$\n",
    "\\int_0^\\infty dpp^2 dkk^2 \\phi(p) V_{\\rm NLO}(p,k) \\phi(k) \\approx \\sum_{i,j} w_ip_i^2 w_jk_j^2 \\phi_i V_{ij} \\phi_k\n",
    "$$\n",
    "\n",
    "Define\n",
    "\n",
    "$$\n",
    "\\vec{x} \\equiv w_i p_i^2 \\phi_i~,\n",
    "$$\n",
    "\n",
    "and\n",
    "\n",
    "$$\n",
    "V_{\\rm NLO}(p, k) \\rightarrow V_{ij} \\equiv \\mathbf{V}\n",
    "$$\n",
    "\n",
    "and we have\n",
    "\n",
    "$$\n",
    "E_2^{({\\rm NLO})} = E_2^{({\\rm LO})} + \\vec{x}^T \\mathbf{V} \\vec{x}\n",
    "$$"
   ]
  },
  {
   "cell_type": "code",
   "execution_count": 7,
   "id": "ea65fb20",
   "metadata": {},
   "outputs": [
    {
     "name": "stdout",
     "output_type": "stream",
     "text": [
      "-0.03976292767699526 6.269862999581291e-06 12311219169.585989\n"
     ]
    }
   ],
   "source": [
    "for j in range(evals.size):\n",
    "    elo = evals[j]\n",
    "    phi = evecs[:, j]\n",
    "    \n",
    "    # normalize the wave function\n",
    "    N = np.dot(sys.wq, sys.q**2 * phi**2)\n",
    "    phi_norm = 1/N\n",
    "    \n",
    "    x = sys.wq * sys.q**2 * phi_norm\n",
    "    vnlo = sys.interaction.counterterm.gen(0, gnlo)\n",
    "    \n",
    "    print(elo, N, x @ (vnlo @ x))"
   ]
  },
  {
   "cell_type": "code",
   "execution_count": null,
   "id": "f35a3543",
   "metadata": {},
   "outputs": [],
   "source": []
  }
 ],
 "metadata": {
  "kernelspec": {
   "display_name": "Python 3 (ipykernel)",
   "language": "python",
   "name": "python3"
  },
  "language_info": {
   "codemirror_mode": {
    "name": "ipython",
    "version": 3
   },
   "file_extension": ".py",
   "mimetype": "text/x-python",
   "name": "python",
   "nbconvert_exporter": "python",
   "pygments_lexer": "ipython3",
   "version": "3.10.1"
  }
 },
 "nbformat": 4,
 "nbformat_minor": 5
}
