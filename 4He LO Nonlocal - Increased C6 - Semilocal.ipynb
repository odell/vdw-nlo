{
 "cells": [
  {
   "cell_type": "markdown",
   "id": "848ee935",
   "metadata": {},
   "source": [
    "# ${}^{4}{\\rm He}$\n",
    "\n",
    "The interaction is defined in `helium4.py`. It is nonlocal, and so is the counterterm. We will use it to tune the scattering length over a range of short-distance cutoffs, $R$."
   ]
  },
  {
   "cell_type": "code",
   "execution_count": 1,
   "id": "640f0bcc",
   "metadata": {},
   "outputs": [],
   "source": [
    "import numpy as np\n",
    "from scipy import optimize\n",
    "\n",
    "import mu2\n",
    "\n",
    "import helium4plusplus as he4"
   ]
  },
  {
   "cell_type": "code",
   "execution_count": 2,
   "id": "d91a6118",
   "metadata": {},
   "outputs": [],
   "source": [
    "ELL = 0\n",
    "R_MAX = he4.BETA6/2\n",
    "R_MIN = he4.BETA6/8\n",
    "N1 = 2\n",
    "N2 = 6\n",
    "NCT = 6\n",
    "\n",
    "nR = 50\n",
    "Rs = 2/np.linspace(2/R_MAX, 2/R_MIN, nR)\n",
    "\n",
    "gs = np.empty(nR)\n",
    "b2s = np.empty(nR)\n",
    "r0s = np.empty(nR)"
   ]
  },
  {
   "cell_type": "code",
   "execution_count": 3,
   "id": "edb4b92e",
   "metadata": {},
   "outputs": [],
   "source": [
    "momenta = np.linspace(0.01/he4.BETA6, 0.3/he4.BETA6, 30)\n",
    "X = he4.FACTOR * he4.BETA6 # K•Å^3\n",
    "\n",
    "def inverse_a0_diff(g, sys):\n",
    "    a0, _ = sys.a0_and_r0(g, 0, momenta, use_c=True)\n",
    "    return (1/he4.A0 - 1/a0)*he4.A0"
   ]
  },
  {
   "cell_type": "code",
   "execution_count": 4,
   "id": "63cae654",
   "metadata": {},
   "outputs": [],
   "source": [
    "s = he4.SemiLocalHelium4System(Rs[0], ELL, N1, N2, NCT)"
   ]
  },
  {
   "cell_type": "code",
   "execution_count": 5,
   "id": "1889cc96",
   "metadata": {},
   "outputs": [
    {
     "data": {
      "text/plain": [
       "((99.68907275787302, 6.246327500503588), array([-0.00130257]))"
      ]
     },
     "execution_count": 5,
     "metadata": {},
     "output_type": "execute_result"
    }
   ],
   "source": [
    "guess = -0.0239*X\n",
    "s.a0_and_r0(guess, 0, momenta, use_c=True), s.bound_state_spectrum(guess, 0)"
   ]
  },
  {
   "cell_type": "code",
   "execution_count": 6,
   "id": "3a11ab91",
   "metadata": {},
   "outputs": [
    {
     "name": "stdout",
     "output_type": "stream",
     "text": [
      "i = 0  R = 2.7706e+00  g = -2.3844e-02 X  a0 = 1.0000e+02  r0 = 6.2475e+00  b2 = 1.2942e-03\n",
      "i = 1  R = 2.6108e+00  g = 6.4257e-02 X  a0 = 1.0000e+02  r0 = 6.5812e+00  b2 = 1.2993e-03\n",
      "i = 2  R = 2.4684e+00  g = 1.6988e-01 X  a0 = 1.0000e+02  r0 = 6.8815e+00  b2 = 1.3039e-03\n",
      "i = 3  R = 2.3407e+00  g = 3.0333e-01 X  a0 = 1.0000e+02  r0 = 7.1341e+00  b2 = 1.3078e-03\n",
      "i = 4  R = 2.2256e+00  g = 4.8460e-01 X  a0 = 1.0000e+02  r0 = 7.3298e+00  b2 = 1.3109e-03\n",
      "i = 5  R = 2.1213e+00  g = 7.5965e-01 X  a0 = 1.0000e+02  r0 = 7.4648e+00  b2 = 1.3130e-03\n",
      "i = 6  R = 2.0263e+00  g = 1.2652e+00 X  a0 = 1.0000e+02  r0 = 7.5403e+00  b2 = 1.3142e-03\n",
      "i = 7  R = 1.9394e+00  g = 2.6818e+00 X  a0 = 1.0000e+02  r0 = 7.5621e+00  b2 = 1.3146e-03\n",
      "i = 8  R = 1.8597e+00  g = 1.8049e+03 X  a0 = 1.0000e+02  r0 = 7.5384e+00  b2 = 1.3142e-03\n"
     ]
    },
    {
     "name": "stderr",
     "output_type": "stream",
     "text": [
      "/Library/Frameworks/Python.framework/Versions/3.10/lib/python3.10/site-packages/scipy/optimize/_minpack_py.py:175: RuntimeWarning: The iteration is not making good progress, as measured by the \n",
      "  improvement from the last ten iterations.\n",
      "  warnings.warn(msg, RuntimeWarning)\n"
     ]
    }
   ],
   "source": [
    "for i in range(nR):\n",
    "    R = Rs[i]\n",
    "    s = he4.SemiLocalHelium4System(R, ELL, N1, N2, NCT)\n",
    "    result = optimize.fsolve(inverse_a0_diff, guess, args=(s), factor=0.1)\n",
    "    g = result[0]\n",
    "    a0, r0 = s.a0_and_r0(g, 0, momenta)\n",
    "    \n",
    "    if np.abs((he4.A0 - a0)/he4.A0) < 1e-4:\n",
    "        e2s = s.bound_state_spectrum(g, 0)\n",
    "        gs[i] = g\n",
    "        r0s[i] = r0\n",
    "        b2s[i] = np.abs(e2s[0])\n",
    "        print(f'i = {i}  R = {R:.4e}  g = {g/X:.4e} X  a0 = {a0:.4e}  r0 = {r0:.4e}  b2 = {np.abs(e2s[0]):.4e}')\n",
    "        guess = g\n",
    "    else:\n",
    "        break"
   ]
  },
  {
   "cell_type": "code",
   "execution_count": 7,
   "id": "b8945430",
   "metadata": {},
   "outputs": [],
   "source": [
    "restart = 9\n",
    "s = he4.SemiLocalHelium4System(Rs[restart], ELL, N1, N2, NCT)"
   ]
  },
  {
   "cell_type": "code",
   "execution_count": 38,
   "id": "993a44b7",
   "metadata": {},
   "outputs": [
    {
     "data": {
      "text/plain": [
       "-0.0021276353801129647"
      ]
     },
     "execution_count": 38,
     "metadata": {},
     "output_type": "execute_result"
    }
   ],
   "source": [
    "guess = -2.65*X\n",
    "inverse_a0_diff(guess, s)"
   ]
  },
  {
   "cell_type": "code",
   "execution_count": 39,
   "id": "67cc016e",
   "metadata": {},
   "outputs": [
    {
     "name": "stdout",
     "output_type": "stream",
     "text": [
      "i = 9  R = 1.7863  g = -2.6489e+00 X  a0 = 1.0000e+02  r0 = 7.4791e+00  b2 = 1.3132e-03\n",
      "i = 10  R = 1.7185  g = -1.2090e+00 X  a0 = 1.0000e+02  r0 = 7.3940e+00  b2 = 1.3119e-03\n",
      "i = 11  R = 1.6556  g = -6.7315e-01 X  a0 = 1.0000e+02  r0 = 7.2916e+00  b2 = 1.3103e-03\n",
      "i = 12  R = 1.5972  g = -3.5553e-01 X  a0 = 1.0000e+02  r0 = 7.1777e+00  b2 = 1.3085e-03\n",
      "i = 13  R = 1.5427  g = -1.1722e-01 X  a0 = 1.0000e+02  r0 = 7.0541e+00  b2 = 1.3066e-03\n",
      "i = 14  R = 1.4919  g = 9.0391e-02 X  a0 = 1.0000e+02  r0 = 6.9165e+00  b2 = 1.3044e-03\n",
      "i = 15  R = 1.4443  g = 2.9125e-01 X  a0 = 1.0000e+02  r0 = 6.7494e+00  b2 = 1.3019e-03\n",
      "i = 16  R = 1.3996  g = 5.0191e-01 X  a0 = 1.0000e+02  r0 = 6.5127e+00  b2 = 1.2982e-03\n",
      "i = 17  R = 1.3576  g = 7.3883e-01 X  a0 = 1.0000e+02  r0 = 6.0934e+00  b2 = 1.2918e-03\n",
      "i = 18  R = 1.3181  g = 1.0249e+00 X  a0 = 1.0000e+02  r0 = 5.0686e+00  b2 = 1.2766e-03\n",
      "i = 19  R = 1.2808  g = 1.4021e+00 X  a0 = 1.0000e+02  r0 = 2.9630e-01  b2 = 1.2113e-03\n"
     ]
    }
   ],
   "source": [
    "for i in range(restart, nR):\n",
    "    R = Rs[i]\n",
    "    s = he4.SemiLocalHelium4System(R, ELL, N1, N2, NCT)\n",
    "    result = optimize.fsolve(inverse_a0_diff, guess, args=(s), factor=0.1)\n",
    "    g = result[0]\n",
    "    a0, r0 = s.a0_and_r0(g, 0, momenta)\n",
    "    \n",
    "    if np.abs((he4.A0 - a0)/he4.A0) < 1e-4:\n",
    "        e2s = s.bound_state_spectrum(g, 0)\n",
    "        gs[i] = g\n",
    "        r0s[i] = r0\n",
    "        b2s[i] = np.abs(e2s[0])\n",
    "        print(f'i = {i}  R = {R:.4f}  g = {g/X:.4e} X  a0 = {a0:.4e}  r0 = {r0:.4e}  b2 = {np.abs(e2s[0]):.4e}')\n",
    "        guess = g\n",
    "    else:\n",
    "        break"
   ]
  },
  {
   "cell_type": "code",
   "execution_count": 40,
   "id": "8d9ee1b4",
   "metadata": {},
   "outputs": [],
   "source": [
    "restart = 20\n",
    "s = he4.SemiLocalHelium4System(Rs[restart], ELL, N1, N2, NCT)"
   ]
  },
  {
   "cell_type": "code",
   "execution_count": 50,
   "id": "63e07cbc",
   "metadata": {},
   "outputs": [
    {
     "data": {
      "text/plain": [
       "array([  17.30454231,   17.45543622,   17.71250012,   18.08399326,\n",
       "         18.58281582,   19.22737744,   20.0436108 ,   21.06787295,\n",
       "         22.35168816,   23.96954851,   26.03221802,   28.71089285,\n",
       "         32.28362615,   37.23291813,   44.47409042,   55.9785829 ,\n",
       "         76.91110072,  126.48298078,  387.09924544, -337.84412581,\n",
       "       -114.71848671,  -68.11331161,  -47.9688983 ,  -36.75534059,\n",
       "        -29.62480685,  -24.69970115,  -21.10006573,  -18.35868565,\n",
       "        -16.20455774,  -14.46970707])"
      ]
     },
     "execution_count": 50,
     "metadata": {},
     "output_type": "execute_result"
    }
   ],
   "source": [
    "s.kcotd_gen_fast(momenta, 0, 0)"
   ]
  },
  {
   "cell_type": "code",
   "execution_count": 49,
   "id": "d5f8bade",
   "metadata": {},
   "outputs": [
    {
     "data": {
      "text/plain": [
       "2985.1636084259985"
      ]
     },
     "execution_count": 49,
     "metadata": {},
     "output_type": "execute_result"
    }
   ],
   "source": [
    "guess = -100*X\n",
    "inverse_a0_diff(guess, s)"
   ]
  },
  {
   "cell_type": "code",
   "execution_count": 55,
   "id": "a2a668ba",
   "metadata": {},
   "outputs": [
    {
     "name": "stdout",
     "output_type": "stream",
     "text": [
      "i = 28  R = 1.0208  g = 2.7096e+00 X  a0 = 1.0000e+02  r0 = 7.4380e+00  b2 = 0.0013125864991519426\n",
      "i = 29  R = 0.9982  g = 3.3891e+00 X  a0 = 1.0000e+02  r0 = 7.4320e+00  b2 = 0.0013124911141916182\n",
      "i = 30  R = 0.9767  g = 4.4403e+00 X  a0 = 1.0000e+02  r0 = 7.4240e+00  b2 = 0.0013123643732332014\n",
      "i = 31  R = 0.9561  g = 6.3851e+00 X  a0 = 1.0000e+02  r0 = 7.4146e+00  b2 = 0.0013122173390277736\n",
      "i = 32  R = 0.9363  g = 1.1614e+01 X  a0 = 1.0000e+02  r0 = 7.4047e+00  b2 = 0.001312060593062537\n",
      "i = 33  R = 0.9173  g = 1.0494e+02 X  a0 = 1.0000e+02  r0 = 7.3948e+00  b2 = 0.0013119037336370742\n"
     ]
    },
    {
     "name": "stderr",
     "output_type": "stream",
     "text": [
      "/Library/Frameworks/Python.framework/Versions/3.10/lib/python3.10/site-packages/scipy/optimize/_minpack_py.py:175: RuntimeWarning: The iteration is not making good progress, as measured by the \n",
      "  improvement from the last ten iterations.\n",
      "  warnings.warn(msg, RuntimeWarning)\n"
     ]
    }
   ],
   "source": [
    "for i in range(restart, nR):\n",
    "    R = Rs[i]\n",
    "    s = he4.SemiLocalHelium4System(R, ELL, N1, N2, NCT)\n",
    "    result = optimize.fsolve(inverse_a0_diff, guess, args=(s), factor=0.1)\n",
    "    g = result[0]\n",
    "    a0, r0 = s.a0_and_r0(g, 0, momenta)\n",
    "    \n",
    "    if np.abs((he4.A0 - a0)/he4.A0) < 1e-4:\n",
    "        e2s = s.bound_state_spectrum(g, 0)\n",
    "        gs[i] = g\n",
    "        r0s[i] = r0\n",
    "        b2s[i] = np.abs(e2s[0])\n",
    "        print(f'i = {i}  R = {R:.4f}  g = {g/X:.4e} X  a0 = {a0:.4e}  r0 = {r0:.4e}  b2 = {np.abs(e2s[0])}')\n",
    "        guess = g\n",
    "    else:\n",
    "        break"
   ]
  },
  {
   "cell_type": "code",
   "execution_count": 57,
   "id": "47a699f3",
   "metadata": {},
   "outputs": [],
   "source": [
    "restart = 34\n",
    "s = he4.SemiLocalHelium4System(Rs[restart], ELL, N1, N2, NCT)"
   ]
  },
  {
   "cell_type": "code",
   "execution_count": 72,
   "id": "8b2a7500",
   "metadata": {},
   "outputs": [
    {
     "data": {
      "text/plain": [
       "-0.0010588444540410302"
      ]
     },
     "execution_count": 72,
     "metadata": {},
     "output_type": "execute_result"
    }
   ],
   "source": [
    "guess = -12.6*X\n",
    "inverse_a0_diff(guess, s)"
   ]
  },
  {
   "cell_type": "code",
   "execution_count": 73,
   "id": "b0edd1ca",
   "metadata": {},
   "outputs": [
    {
     "name": "stdout",
     "output_type": "stream",
     "text": [
      "i = 34  R = 0.8991  g = -1.2596e+01 X  a0 = 1.0000e+02  r0 = 7.3853e+00  b2 = 0.001311754910212761\n",
      "i = 35  R = 0.8816  g = -5.2146e+00 X  a0 = 1.0000e+02  r0 = 7.3768e+00  b2 = 0.0013116205840834278\n",
      "i = 36  R = 0.8647  g = -2.8520e+00 X  a0 = 1.0000e+02  r0 = 7.3695e+00  b2 = 0.0013115054280846711\n",
      "i = 37  R = 0.8485  g = -1.6263e+00 X  a0 = 1.0000e+02  r0 = 7.3636e+00  b2 = 0.0013114123392142312\n",
      "i = 38  R = 0.8329  g = -8.3450e-01 X  a0 = 1.0000e+02  r0 = 7.3591e+00  b2 = 0.0013113425554555417\n",
      "i = 39  R = 0.8178  g = -2.5098e-01 X  a0 = 1.0000e+02  r0 = 7.3562e+00  b2 = 0.001311295841047208\n",
      "i = 40  R = 0.8033  g = 2.1918e-01 X  a0 = 1.0000e+02  r0 = 7.3546e+00  b2 = 0.0013112707211646072\n",
      "i = 41  R = 0.7893  g = 6.2320e-01 X  a0 = 1.0000e+02  r0 = 7.3542e+00  b2 = 0.0013112647391085772\n",
      "i = 42  R = 0.7758  g = 9.8758e-01 X  a0 = 1.0000e+02  r0 = 7.3548e+00  b2 = 0.0013112747421598152\n",
      "i = 43  R = 0.7627  g = 1.3286e+00 X  a0 = 1.0000e+02  r0 = 7.3563e+00  b2 = 0.0013112971385969988\n",
      "i = 44  R = 0.7501  g = 1.6573e+00 X  a0 = 1.0000e+02  r0 = 7.3582e+00  b2 = 0.0013113281404790685\n",
      "i = 45  R = 0.7378  g = 1.9816e+00 X  a0 = 1.0000e+02  r0 = 7.3605e+00  b2 = 0.001311363980509885\n",
      "i = 46  R = 0.7260  g = 2.3080e+00 X  a0 = 1.0000e+02  r0 = 7.3629e+00  b2 = 0.0013114011029643617\n",
      "i = 47  R = 0.7145  g = 2.6419e+00 X  a0 = 1.0000e+02  r0 = 7.3651e+00  b2 = 0.0013114363163221866\n",
      "i = 48  R = 0.7034  g = 2.9890e+00 X  a0 = 1.0000e+02  r0 = 7.3671e+00  b2 = 0.0013114668969681164\n",
      "i = 49  R = 0.6927  g = 3.3547e+00 X  a0 = 1.0000e+02  r0 = 7.3686e+00  b2 = 0.0013114906771566856\n"
     ]
    }
   ],
   "source": [
    "for i in range(restart, nR):\n",
    "    R = Rs[i]\n",
    "    s = he4.SemiLocalHelium4System(R, ELL, N1, N2, NCT)\n",
    "    result = optimize.fsolve(inverse_a0_diff, guess, args=(s), factor=0.1)\n",
    "    g = result[0]\n",
    "    a0, r0 = s.a0_and_r0(g, 0, momenta)\n",
    "    \n",
    "    if np.abs((he4.A0 - a0)/he4.A0) < 1e-4:\n",
    "        e2s = s.bound_state_spectrum(g, 0)\n",
    "        gs[i] = g\n",
    "        r0s[i] = r0\n",
    "        b2s[i] = np.abs(e2s[0])\n",
    "        print(f'i = {i}  R = {R:.4f}  g = {g/X:.4e} X  a0 = {a0:.4e}  r0 = {r0:.4e}  b2 = {np.abs(e2s[0])}')\n",
    "        guess = g\n",
    "    else:\n",
    "        break"
   ]
  },
  {
   "cell_type": "code",
   "execution_count": 74,
   "id": "dec7cbbe",
   "metadata": {},
   "outputs": [],
   "source": [
    "import matplotlib.pyplot as plt\n",
    "\n",
    "plt.style.use('science')\n",
    "gr = 4/3\n",
    "h = 3"
   ]
  },
  {
   "cell_type": "code",
   "execution_count": 75,
   "id": "b30e20f1",
   "metadata": {},
   "outputs": [
    {
     "data": {
      "image/png": "[encoded data removed]",
      "text/plain": [
       "<Figure size 800x600 with 1 Axes>"
      ]
     },
     "metadata": {},
     "output_type": "display_data"
    }
   ],
   "source": [
    "fig, ax = plt.subplots(figsize=(gr*h, h), dpi=200)\n",
    "fig.patch.set_facecolor('white')\n",
    "\n",
    "ax.plot(he4.BETA6/Rs, gs)\n",
    "\n",
    "ax.set_xlabel(r'$\\beta_6/R$')\n",
    "ax.set_ylabel(r'$g_{\\rm LO}$');"
   ]
  },
  {
   "cell_type": "code",
   "execution_count": 76,
   "id": "4b147d4d",
   "metadata": {},
   "outputs": [
    {
     "data": {
      "image/png": "[encoded data removed]",
      "text/plain": [
       "<Figure size 800x600 with 1 Axes>"
      ]
     },
     "metadata": {},
     "output_type": "display_data"
    }
   ],
   "source": [
    "fig, ax = plt.subplots(figsize=(gr*h, h), dpi=200)\n",
    "fig.patch.set_facecolor('white')\n",
    "\n",
    "ax.plot(he4.BETA6/Rs, r0s)\n",
    "ax.axhline(he4.R0, color='C1', linestyle='--')\n",
    "\n",
    "ax.set_xlabel(r'$\\beta_6/R$')\n",
    "ax.set_ylabel(r'$r_0$ (Å)');"
   ]
  },
  {
   "cell_type": "code",
   "execution_count": 77,
   "id": "1433c699",
   "metadata": {},
   "outputs": [],
   "source": [
    "filename_id = f'he4plusplus_LO_semilocal_{N1}_{N2}_{NCT}'"
   ]
  },
  {
   "cell_type": "code",
   "execution_count": 78,
   "id": "74144a17",
   "metadata": {},
   "outputs": [],
   "source": [
    "np.savetxt('datfiles/'+filename_id + '_rg_flow.txt', np.vstack((Rs, gs)).T, header='R (Å)  g ()')"
   ]
  },
  {
   "cell_type": "code",
   "execution_count": 79,
   "id": "3c28ef18",
   "metadata": {},
   "outputs": [],
   "source": [
    "np.savetxt('datfiles/' + filename_id + '_r0s.txt', np.vstack((Rs, r0s)).T, header='R (Å)  r_0 (Å)')"
   ]
  },
  {
   "cell_type": "code",
   "execution_count": null,
   "id": "3f669804",
   "metadata": {},
   "outputs": [],
   "source": []
  }
 ],
 "metadata": {
  "kernelspec": {
   "display_name": "Python 3 (ipykernel)",
   "language": "python",
   "name": "python3"
  },
  "language_info": {
   "codemirror_mode": {
    "name": "ipython",
    "version": 3
   },
   "file_extension": ".py",
   "mimetype": "text/x-python",
   "name": "python",
   "nbconvert_exporter": "python",
   "pygments_lexer": "ipython3",
   "version": "3.10.1"
  },
  "toc": {
   "base_numbering": 1,
   "nav_menu": {},
   "number_sections": true,
   "sideBar": true,
   "skip_h1_title": false,
   "title_cell": "Table of Contents",
   "title_sidebar": "Contents",
   "toc_cell": false,
   "toc_position": {},
   "toc_section_display": true,
   "toc_window_display": false
  },
  "varInspector": {
   "cols": {
    "lenName": 16,
    "lenType": 16,
    "lenVar": 40
   },
   "kernels_config": {
    "python": {
     "delete_cmd_postfix": "",
     "delete_cmd_prefix": "del ",
     "library": "var_list.py",
     "varRefreshCmd": "print(var_dic_list())"
    },
    "r": {
     "delete_cmd_postfix": ") ",
     "delete_cmd_prefix": "rm(",
     "library": "var_list.r",
     "varRefreshCmd": "cat(var_dic_list()) "
    }
   },
   "types_to_exclude": [
    "module",
    "function",
    "builtin_function_or_method",
    "instance",
    "_Feature"
   ],
   "window_display": false
  },
  "vscode": {
   "interpreter": {
    "hash": "98590ff4fe04c8543246b2a01debd3de3c5ca9b666f43f1fa87d5110c692004c"
   }
  }
 },
 "nbformat": 4,
 "nbformat_minor": 5
}
